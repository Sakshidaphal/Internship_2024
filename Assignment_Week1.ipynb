{
 "cells": [
  {
   "cell_type": "code",
   "execution_count": 1,
   "id": "3002c44a-a388-49c9-a4a1-42931df4b5a9",
   "metadata": {},
   "outputs": [],
   "source": [
    "'''\n",
    "1.Write a program to convert specific days into years, weeks, and days.\n",
    "Take user input.\n",
    "Note:lgnore leap year.\n",
    "''';"
   ]
  },
  {
   "cell_type": "code",
   "execution_count": 2,
   "id": "01a719b8-fb3e-4f2c-b303-db5ffe41baab",
   "metadata": {},
   "outputs": [
    {
     "name": "stdin",
     "output_type": "stream",
     "text": [
      "enter the number of days 45\n"
     ]
    },
    {
     "name": "stdout",
     "output_type": "stream",
     "text": [
      "total number of years:\n",
      "0\n",
      "total number of weeks:\n",
      "6\n",
      "total number of days:\n",
      "3\n"
     ]
    }
   ],
   "source": [
    "num = int(input('enter the number of days'))\n",
    "\n",
    "year = int(num / 365)\n",
    "week = int((num % 365) / 7)\n",
    "days = int((num % 365) % 7)\n",
    "\n",
    "print('total number of years:')\n",
    "print(year)\n",
    "print('total number of weeks:')\n",
    "print(week)\n",
    "print('total number of days:')\n",
    "print(days)"
   ]
  },
  {
   "cell_type": "code",
   "execution_count": 3,
   "id": "2612f51a-113e-4d45-910f-89e14fc2ae63",
   "metadata": {},
   "outputs": [],
   "source": [
    "'''\n",
    "2. Write a Python program to input basic salary of an employee and\n",
    "calculate its Gross salary according to following:\n",
    "Basic Salary <= 10000 : HRA = 20%, DA = 80%\n",
    "Basic Salary <= 20000 : HRA = 30%, DA = 90%\n",
    "Basic Salary > 20000 : HRA = 35%, DA = 95%\n",
    "''';\n"
   ]
  },
  {
   "cell_type": "code",
   "execution_count": 4,
   "id": "9f7d75ec-99a7-4f5e-a134-9c3c311035c6",
   "metadata": {},
   "outputs": [
    {
     "name": "stdin",
     "output_type": "stream",
     "text": [
      "enter the basic salary 1000\n"
     ]
    },
    {
     "name": "stdout",
     "output_type": "stream",
     "text": [
      "gross salary is: 2000.0\n"
     ]
    }
   ],
   "source": [
    "basic_salary = int(input('enter the basic salary'))\n",
    "\n",
    "#   Basic Salary <= 10000 : HRA = 20%, DA = 80%\n",
    "if basic_salary <= 10000:\n",
    "    hra = .20 * basic_salary\n",
    "    da = .80 * basic_salary\n",
    "\n",
    "#   Basic Salary <= 20000 : HRA = 30%, DA = 90%\n",
    "elif basic_salary <= 20000:\n",
    "    hra = .30 * basic_salary\n",
    "    da = .90 * basic_salary\n",
    "\n",
    "#   Basic Salary > 20000 : HRA = 35%, DA = 95%\n",
    "else:\n",
    "    hra = .35 * basic_salary\n",
    "    da = .95 * basic_salary\n",
    "\n",
    "gross_salary = basic_salary + hra +da\n",
    "\n",
    "print('gross salary is:',gross_salary)\n"
   ]
  },
  {
   "cell_type": "code",
   "execution_count": 43,
   "id": "94902438-c9eb-4897-b644-c026fed23a06",
   "metadata": {},
   "outputs": [],
   "source": [
    "'''\n",
    "3. Write a Python program to input electricity unit charges and calculate total\n",
    "electricity bill according to the given condition:\n",
    "For first 50 units Rs. 0.50/unit\n",
    "For next 100 units Rs. 0.75/unit\n",
    "For next 100 units Rs. 1.25/unit\n",
    "For unit above 250 Rs. 1.50/unit\n",
    "An additional surcharge of 17% is added to the bill.\n",
    "''';    \n"
   ]
  },
  {
   "cell_type": "code",
   "execution_count": 1,
   "id": "70b2ff36-d4da-44c9-a062-ae7e08d84820",
   "metadata": {},
   "outputs": [
    {
     "name": "stdin",
     "output_type": "stream",
     "text": [
      "enter the number of unit 30\n"
     ]
    },
    {
     "name": "stdout",
     "output_type": "stream",
     "text": [
      "total bill after adding surcharge =  29.25\n"
     ]
    }
   ],
   "source": [
    "# take user input\n",
    "units = int(input(\"enter the number of unit\"))\n",
    "\n",
    "#For first 50 units Rs. 0.50/unit\n",
    "if units <= 50:\n",
    "    total_bill = (50 * 0.50)\n",
    "\n",
    "#For next 100 units Rs. 0.75/unit\n",
    "elif units <= 150:\n",
    "    total_bill = (50 * 0.50) + (units - 50) * 0.75\n",
    "\n",
    "#For next 100 units Rs. 1.25/unit\n",
    "elif units <= 250:\n",
    "    total_bill = (50 * 0.50) + (100 * 0.75) + (units - 150) * 1.25\n",
    "\n",
    "#For unit above 250 Rs. 1.50/unit\n",
    "else:\n",
    "    total_bill = (50 * 0.50) + (100 * 0.75) + (100 * 1.25) + (units - 250) * 1.50\n",
    "\n",
    "#An additional surcharge of 17% is added to the bill.\n",
    "surcharge = total_bill * 0.17\n",
    "total_bill = total_bill + surcharge\n",
    "print(\"total bill after adding surcharge = \",total_bill)"
   ]
  },
  {
   "cell_type": "code",
   "execution_count": 7,
   "id": "7f300fc9-0c66-4497-9c03-d4dfb4de71d7",
   "metadata": {},
   "outputs": [],
   "source": [
    "'''\n",
    "4. Write a Python program to print the given number patterns.\n",
    "1\n",
    "22\n",
    "333\n",
    "4444\n",
    "55555\n",
    "''';"
   ]
  },
  {
   "cell_type": "code",
   "execution_count": 8,
   "id": "4308c92e-05a5-4093-a508-88bad749be4c",
   "metadata": {},
   "outputs": [
    {
     "name": "stdout",
     "output_type": "stream",
     "text": [
      "1  \n",
      "2  2  \n",
      "3  3  3  \n",
      "4  4  4  4  \n",
      "5  5  5  5  5  \n"
     ]
    }
   ],
   "source": [
    "row = 5              # or we can take user input \"int(input('enter the number of rows'))\"\n",
    "for i in range (1 , row +1 ):\n",
    "    for j in range(1 , i+1):\n",
    "        print(i,end = '  ')\n",
    "    print()"
   ]
  },
  {
   "cell_type": "code",
   "execution_count": 9,
   "id": "f1167ad1-db3c-48b1-89c5-61a6af4df673",
   "metadata": {},
   "outputs": [],
   "source": [
    "'''\n",
    "5. Write a Python program to calculate product of digits of a number. Read\n",
    "value of n from user.\n",
    "''';"
   ]
  },
  {
   "cell_type": "code",
   "execution_count": 10,
   "id": "73d41530-8cc0-41fd-a12f-0227e8ac34f8",
   "metadata": {},
   "outputs": [
    {
     "name": "stdin",
     "output_type": "stream",
     "text": [
      "enter the number 12345\n"
     ]
    },
    {
     "name": "stdout",
     "output_type": "stream",
     "text": [
      "product of digit is: 0 : 120\n"
     ]
    }
   ],
   "source": [
    "num = int(input('enter the number'))\n",
    "product = 1\n",
    "while num != 0:\n",
    "   product = product * (num % 10)\n",
    "   num = int(num / 10)\n",
    "\n",
    "print('product of digit is:',num,':',product)\n"
   ]
  },
  {
   "cell_type": "code",
   "execution_count": 11,
   "id": "2b8d893c-c159-41ba-9451-bc76fa0677db",
   "metadata": {},
   "outputs": [],
   "source": [
    "'''\n",
    "6. Create a list of elements like: x = [45, 67, 12, ‘Hello’, 23.45, ‘World’] and\n",
    "oerform following\n",
    "operations\n",
    "1. Extract only string values from this list.\n",
    "2. Create a new list with strings in upper case.\n",
    "3. Find the addition of integer values\n",
    "4. Check that the value 56 is present in it or not.\n",
    "5. Print the list in reverse order.\n",
    "6. Delete the string ‘Hello’ from it.\n",
    "7. Insert a new value of 36 at 5th position in list.\n",
    "8. Count total number of elements in list now.\n",
    "9. Extract the values from 2nd index to 5th index.\n",
    "10. Append [34, ‘Pune’] to this list.\n",
    "11. Delete the last element from list\n",
    "''';"
   ]
  },
  {
   "cell_type": "code",
   "execution_count": 21,
   "id": "ec1f898b-f56d-429f-85d1-cf481130a62b",
   "metadata": {},
   "outputs": [],
   "source": [
    "x = [45, 67, 12, 'hello', 23.45, 'world']\n"
   ]
  },
  {
   "cell_type": "code",
   "execution_count": 10,
   "id": "26e95a78-75c3-490b-b0a6-602ac30fb930",
   "metadata": {},
   "outputs": [
    {
     "data": {
      "text/plain": [
       "'hello'"
      ]
     },
     "execution_count": 10,
     "metadata": {},
     "output_type": "execute_result"
    }
   ],
   "source": [
    "#   1. Extract only string values from this list.\n",
    "x[3]"
   ]
  },
  {
   "cell_type": "code",
   "execution_count": 11,
   "id": "3efa1909-a86a-415b-87e8-1ac5860400f2",
   "metadata": {},
   "outputs": [
    {
     "data": {
      "text/plain": [
       "'world'"
      ]
     },
     "execution_count": 11,
     "metadata": {},
     "output_type": "execute_result"
    }
   ],
   "source": [
    "x[5]"
   ]
  },
  {
   "cell_type": "code",
   "execution_count": 12,
   "id": "2a6478ed-bf5e-402d-8965-51f89ba4e755",
   "metadata": {},
   "outputs": [
    {
     "name": "stdout",
     "output_type": "stream",
     "text": [
      "['SAKSHI', 'PRATIKSHA', 'TANVI']  "
     ]
    }
   ],
   "source": [
    "#   2. Create a new list with strings in upper case.\n",
    "l = ['sakshi', 'pratiksha', 'tanvi']\n",
    "a = [n.upper() for n in l ]\n",
    "print(a, end = '  ')"
   ]
  },
  {
   "cell_type": "code",
   "execution_count": 15,
   "id": "9fa0fc1c-da70-4ec1-a49c-8b94ec97630b",
   "metadata": {},
   "outputs": [
    {
     "data": {
      "text/plain": [
       "147.45"
      ]
     },
     "execution_count": 15,
     "metadata": {},
     "output_type": "execute_result"
    }
   ],
   "source": [
    "#   3. Find the addition of integer values\n",
    "sum(x)"
   ]
  },
  {
   "cell_type": "code",
   "execution_count": 16,
   "id": "fa8e998d-92eb-48b8-84ce-f87c89511366",
   "metadata": {},
   "outputs": [
    {
     "data": {
      "text/plain": [
       "False"
      ]
     },
     "execution_count": 16,
     "metadata": {},
     "output_type": "execute_result"
    }
   ],
   "source": [
    "#   4. Check that the value 56 is present in it or not.\n",
    "56 in x"
   ]
  },
  {
   "cell_type": "code",
   "execution_count": 17,
   "id": "afad72a1-121f-42e4-ba95-1d4eb1ec05ba",
   "metadata": {},
   "outputs": [
    {
     "data": {
      "text/plain": [
       "[67, 45, 23.45, 12]"
      ]
     },
     "execution_count": 17,
     "metadata": {},
     "output_type": "execute_result"
    }
   ],
   "source": [
    "#   5. Print the list in reverse order.\n",
    "sorted(x,reverse = True)"
   ]
  },
  {
   "cell_type": "code",
   "execution_count": 13,
   "id": "d126551e-ee35-479a-821d-82a8232b188c",
   "metadata": {},
   "outputs": [
    {
     "data": {
      "text/plain": [
       "[45, 67, 12, 23.45, 'world']"
      ]
     },
     "execution_count": 13,
     "metadata": {},
     "output_type": "execute_result"
    }
   ],
   "source": [
    "#   6. Delete the string ‘Hello’ from it.\n",
    "del x[3]\n",
    "x"
   ]
  },
  {
   "cell_type": "code",
   "execution_count": 18,
   "id": "5f237f50-5896-4c1f-82c5-7bc5a04661c1",
   "metadata": {},
   "outputs": [
    {
     "data": {
      "text/plain": [
       "[45, 67, 12, 23.45, 36]"
      ]
     },
     "execution_count": 18,
     "metadata": {},
     "output_type": "execute_result"
    }
   ],
   "source": [
    "#   7. Insert a new value of 36 at 5th position in list.\n",
    "x.insert( 5 , 36)\n",
    "x"
   ]
  },
  {
   "cell_type": "code",
   "execution_count": 24,
   "id": "549407fd-ec90-4fa3-9d60-956b8f2d682f",
   "metadata": {},
   "outputs": [
    {
     "data": {
      "text/plain": [
       "7"
      ]
     },
     "execution_count": 24,
     "metadata": {},
     "output_type": "execute_result"
    }
   ],
   "source": [
    "#   8. Count total number of elements in list now.\n",
    "len(x)"
   ]
  },
  {
   "cell_type": "code",
   "execution_count": 19,
   "id": "ee42ec96-6843-4771-9ae1-2bb6fecd7746",
   "metadata": {},
   "outputs": [
    {
     "data": {
      "text/plain": [
       "[12, 23.45, 36]"
      ]
     },
     "execution_count": 19,
     "metadata": {},
     "output_type": "execute_result"
    }
   ],
   "source": [
    "#   9. Extract the values from 2nd index to 5th index.\n",
    "x[2:6]"
   ]
  },
  {
   "cell_type": "code",
   "execution_count": 23,
   "id": "7a415200-f00e-40c5-ae8a-f0a0e2e5dd34",
   "metadata": {},
   "outputs": [
    {
     "data": {
      "text/plain": [
       "[45, 67, 12, 'hello', 23.45, 'world', [34, 'pune']]"
      ]
     },
     "execution_count": 23,
     "metadata": {},
     "output_type": "execute_result"
    }
   ],
   "source": [
    "#   10. Append [34, ‘Pune’] to this list.\n",
    "x.append([34, 'pune'])\n",
    "x"
   ]
  },
  {
   "cell_type": "code",
   "execution_count": 14,
   "id": "43cbb184-6994-4da4-bb2d-cbd838cb8619",
   "metadata": {},
   "outputs": [
    {
     "data": {
      "text/plain": [
       "[45, 67, 12, 23.45]"
      ]
     },
     "execution_count": 14,
     "metadata": {},
     "output_type": "execute_result"
    }
   ],
   "source": [
    "#   11. Delete the last element from list\n",
    "del x[-1]\n",
    "x"
   ]
  },
  {
   "cell_type": "code",
   "execution_count": 25,
   "id": "535d8750-b38e-40c8-8d0f-6056a31b0031",
   "metadata": {},
   "outputs": [],
   "source": [
    "'''\n",
    "7. Create a tuple of elements with 5 float values in it and perform following\n",
    "operations.\n",
    "1. Print the data in sorted manner.\n",
    "2. Check to see that the element 50 is present in it.\n",
    "3. Convert this tuple in set.\n",
    "\n",
    "''';"
   ]
  },
  {
   "cell_type": "code",
   "execution_count": 26,
   "id": "379bc0b4-506c-4c49-8bfe-e4d69a8c2787",
   "metadata": {},
   "outputs": [
    {
     "data": {
      "text/plain": [
       "(23.33, 54.76, 67.44, 50.78, 90.32)"
      ]
     },
     "execution_count": 26,
     "metadata": {},
     "output_type": "execute_result"
    }
   ],
   "source": [
    "t = (23.33,54.76,67.44,50.78,90.32)\n",
    "t"
   ]
  },
  {
   "cell_type": "code",
   "execution_count": 27,
   "id": "2445dc71-e38e-4ba7-8039-369cbeabdffa",
   "metadata": {},
   "outputs": [
    {
     "data": {
      "text/plain": [
       "[23.33, 50.78, 54.76, 67.44, 90.32]"
      ]
     },
     "execution_count": 27,
     "metadata": {},
     "output_type": "execute_result"
    }
   ],
   "source": [
    "#  1. Print the data in sorted manner.\n",
    "sorted(t,reverse = False)"
   ]
  },
  {
   "cell_type": "code",
   "execution_count": 28,
   "id": "fe58c486-7a6a-41ec-ae3b-0c16d0acee6a",
   "metadata": {},
   "outputs": [
    {
     "data": {
      "text/plain": [
       "False"
      ]
     },
     "execution_count": 28,
     "metadata": {},
     "output_type": "execute_result"
    }
   ],
   "source": [
    "#  2. Check to see that the element 50 is present in it.\n",
    "50 in t"
   ]
  },
  {
   "cell_type": "code",
   "execution_count": 29,
   "id": "0472dc16-d660-4f7c-abf2-8e98e0a51605",
   "metadata": {},
   "outputs": [
    {
     "name": "stdout",
     "output_type": "stream",
     "text": [
      "(1, 2, 3)\n"
     ]
    }
   ],
   "source": [
    "#  3. Convert this tuple in set.\n",
    "t = (1, 2, 3)\n",
    "s = set(t)\n",
    "print(t)"
   ]
  },
  {
   "cell_type": "code",
   "execution_count": 30,
   "id": "6fdc3a07-ada6-4273-841e-687d025b1abc",
   "metadata": {},
   "outputs": [],
   "source": [
    "'''\n",
    "8. Create a dictionary of elements: {‘a’: ‘apple’, ‘b’: ‘ball’, ‘c’: ‘cat’, ‘d’: ‘doll’, ‘k’:\n",
    "‘king’} and\n",
    "perform following operations.\n",
    "1. Access the data at key ‘k’.\n",
    "2. Add a new values ‘z’: ‘zebra’\n",
    "3. Replace the contents of ‘d’ as ‘dog’\n",
    "4. Print all the values from this dictionary.\n",
    "5. Find the length of this dictionary.\n",
    "\n",
    "''';"
   ]
  },
  {
   "cell_type": "code",
   "execution_count": 31,
   "id": "98cee633-5eb1-4964-a17e-02cace4b9b9f",
   "metadata": {},
   "outputs": [],
   "source": [
    "d = {'a': 'apple', 'b': 'ball', 'c': 'cat', 'd': 'doll', 'k':'king'}"
   ]
  },
  {
   "cell_type": "code",
   "execution_count": 32,
   "id": "b680cdb6-f2f8-480a-aa73-2a7372144fd2",
   "metadata": {},
   "outputs": [
    {
     "data": {
      "text/plain": [
       "'king'"
      ]
     },
     "execution_count": 32,
     "metadata": {},
     "output_type": "execute_result"
    }
   ],
   "source": [
    "#  1. Access the data at key ‘k’.\n",
    "d['k']"
   ]
  },
  {
   "cell_type": "code",
   "execution_count": 33,
   "id": "3cc304ab-6b3a-4a87-92ee-255290718bfc",
   "metadata": {},
   "outputs": [
    {
     "data": {
      "text/plain": [
       "{'a': 'apple', 'b': 'ball', 'c': 'cat', 'd': 'doll', 'k': 'king', 'z': 'zebra'}"
      ]
     },
     "execution_count": 33,
     "metadata": {},
     "output_type": "execute_result"
    }
   ],
   "source": [
    "#  2. Add a new values ‘z’: ‘zebra’  \n",
    "d['z'] = 'zebra'\n",
    "d"
   ]
  },
  {
   "cell_type": "code",
   "execution_count": 34,
   "id": "9a9da5c4-dd5b-4895-b8b9-edc943b85247",
   "metadata": {},
   "outputs": [
    {
     "data": {
      "text/plain": [
       "{'a': 'apple', 'b': 'ball', 'c': 'cat', 'd': 'dog', 'k': 'king', 'z': 'zebra'}"
      ]
     },
     "execution_count": 34,
     "metadata": {},
     "output_type": "execute_result"
    }
   ],
   "source": [
    "#  3. Replace the contents of ‘d’ as ‘dog’\n",
    "d['d'] = 'dog'\n",
    "d"
   ]
  },
  {
   "cell_type": "code",
   "execution_count": 35,
   "id": "cf5a6fc7-33e6-489c-8282-dd797d05c128",
   "metadata": {},
   "outputs": [
    {
     "name": "stdout",
     "output_type": "stream",
     "text": [
      "{'a': 'apple', 'b': 'ball', 'c': 'cat', 'd': 'dog', 'k': 'king', 'z': 'zebra'}\n"
     ]
    }
   ],
   "source": [
    "#  4. Print all the values from this dictionary.\n",
    "print(d)"
   ]
  },
  {
   "cell_type": "code",
   "execution_count": 36,
   "id": "bd2cd656-f838-431c-95cc-2a5978cb5336",
   "metadata": {},
   "outputs": [
    {
     "data": {
      "text/plain": [
       "6"
      ]
     },
     "execution_count": 36,
     "metadata": {},
     "output_type": "execute_result"
    }
   ],
   "source": [
    "#  5. Find the length of this dictionary.\n",
    "len(d)"
   ]
  },
  {
   "cell_type": "code",
   "execution_count": 37,
   "id": "63188a05-e989-4786-8003-eed52d7d4a9f",
   "metadata": {},
   "outputs": [],
   "source": [
    "'''\n",
    "9. Write a program to find the second largest element in a list.\n",
    "''';"
   ]
  },
  {
   "cell_type": "code",
   "execution_count": 38,
   "id": "41ca1385-1a9f-49ba-a4ed-b05cfc2eff68",
   "metadata": {},
   "outputs": [
    {
     "name": "stdin",
     "output_type": "stream",
     "text": [
      "enter the number of elements 5\n",
      "enter the elements 10\n",
      "enter the elements 20\n",
      "enter the elements 30\n",
      "enter the elements 40\n",
      "enter the elements 50\n"
     ]
    },
    {
     "name": "stdout",
     "output_type": "stream",
     "text": [
      "sorted list: [10, 20, 30, 40, 50]\n",
      "the second largest number: 40\n"
     ]
    }
   ],
   "source": [
    "list = []\n",
    "n = int(input('enter the number of elements'))\n",
    "for i in range(1, n+1):\n",
    "    ele = int(input('enter the elements'))\n",
    "    list.append(ele)\n",
    "list.sort()\n",
    "print('sorted list:',list)\n",
    "print('the second largest number:',list[n-2])\n",
    "    \n"
   ]
  },
  {
   "cell_type": "code",
   "execution_count": 39,
   "id": "a849ce96-2628-46a6-8794-2b5ad49e1c91",
   "metadata": {},
   "outputs": [],
   "source": [
    "'''\n",
    "10. This is a list of some metallic elements.\n",
    "metals = [ 'silver','gold', ... ]\n",
    "Make a new list that is almost identical to the metals list: the new\n",
    "contains the same items, in the same order, except that it does NOT\n",
    "contain the item 'copper'.\n",
    "''';"
   ]
  },
  {
   "cell_type": "code",
   "execution_count": 40,
   "id": "699b6b47-cb54-4deb-b74a-86d960f78024",
   "metadata": {},
   "outputs": [],
   "source": [
    "metals = ['silver','gold','copper','zinc']\n",
    "metals1 = ['silver','gold','zinc']"
   ]
  },
  {
   "cell_type": "code",
   "execution_count": 41,
   "id": "e20232b8-6ce0-45f8-a024-5c9a69de5cef",
   "metadata": {},
   "outputs": [
    {
     "name": "stdout",
     "output_type": "stream",
     "text": [
      "['silver', 'gold', 'copper', 'zinc']\n"
     ]
    }
   ],
   "source": [
    "print(metals)"
   ]
  },
  {
   "cell_type": "code",
   "execution_count": 42,
   "id": "52f93b9e-5098-4765-a2d5-ead8d52f5e14",
   "metadata": {},
   "outputs": [
    {
     "name": "stdout",
     "output_type": "stream",
     "text": [
      "['silver', 'gold', 'zinc']\n"
     ]
    }
   ],
   "source": [
    "print(metals1)"
   ]
  },
  {
   "cell_type": "code",
   "execution_count": null,
   "id": "c877c9dd-cf31-4d50-9af6-3c2d84a1aebd",
   "metadata": {},
   "outputs": [],
   "source": [
    "  "
   ]
  }
 ],
 "metadata": {
  "kernelspec": {
   "display_name": "Python 3 (ipykernel)",
   "language": "python",
   "name": "python3"
  },
  "language_info": {
   "codemirror_mode": {
    "name": "ipython",
    "version": 3
   },
   "file_extension": ".py",
   "mimetype": "text/x-python",
   "name": "python",
   "nbconvert_exporter": "python",
   "pygments_lexer": "ipython3",
   "version": "3.11.7"
  }
 },
 "nbformat": 4,
 "nbformat_minor": 5
}
