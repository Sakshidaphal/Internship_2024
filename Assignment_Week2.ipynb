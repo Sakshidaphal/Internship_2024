{
 "cells": [
  {
   "cell_type": "code",
   "execution_count": 1,
   "id": "048dda61-97dc-4a4a-aae2-95070ddbcb5f",
   "metadata": {},
   "outputs": [],
   "source": [
    "'''\n",
    "1. Create a package named ‘cricket’ which will contain modules named\n",
    "batsman and bowler. Create following functions in respective modules.\n",
    "Import the package and call all these functions in your program\n",
    "batsman: findaverage(runs,matches), strikerate(runs,balls)\n",
    "bowler: findavg(runs,wickets), economyrate(overs, runs)\n",
    "''';"
   ]
  },
  {
   "cell_type": "code",
   "execution_count": 2,
   "id": "0f93023e-4ded-4056-9977-a119fbc095ea",
   "metadata": {},
   "outputs": [
    {
     "name": "stdout",
     "output_type": "stream",
     "text": [
      "FOR BATSMAN\n"
     ]
    },
    {
     "name": "stdin",
     "output_type": "stream",
     "text": [
      "Enter runs: 33\n",
      "Enter matches: 4\n",
      "Enter balls: 30\n"
     ]
    },
    {
     "name": "stdout",
     "output_type": "stream",
     "text": [
      "Batsman average= 8.25\n",
      "Batsman strikerate= 110.00000000000001\n",
      "\n",
      "FOR BOWLER\n"
     ]
    },
    {
     "name": "stdin",
     "output_type": "stream",
     "text": [
      "Enter runs: 20\n",
      "Enter wickets: 3\n",
      "Enter overs: 3\n"
     ]
    },
    {
     "name": "stdout",
     "output_type": "stream",
     "text": [
      "Bowler average= 6.666666666666667\n",
      "Bowler economyrate= 6.666666666666667\n"
     ]
    }
   ],
   "source": [
    "from cricket import batsman , bowler\n",
    "\n",
    "print('FOR BATSMAN')\n",
    "\n",
    "runs = int(input('Enter runs:'))\n",
    "matches = int(input('Enter matches:'))\n",
    "balls = int(input('Enter balls:'))\n",
    "\n",
    "print('Batsman average=' , batsman.findaverage(runs,matches))\n",
    "\n",
    "print('Batsman strikerate=' , batsman.strikerate(runs,balls))\n",
    "\n",
    "print('')\n",
    "\n",
    "print('FOR BOWLER')\n",
    "\n",
    "runs = int(input('Enter runs:'))\n",
    "wickets = int(input('Enter wickets:'))\n",
    "overs = int(input('Enter overs:'))\n",
    "\n",
    "print('Bowler average=' , bowler.findavg(runs,wickets))\n",
    "\n",
    "print('Bowler economyrate=' , bowler.economyrate(overs,runs))"
   ]
  },
  {
   "cell_type": "code",
   "execution_count": 58,
   "id": "91129b14-bb0a-4f9f-aec9-1b198d5b79d5",
   "metadata": {},
   "outputs": [],
   "source": [
    "'''\n",
    "2. Write a Python function to find whether the number if prime or not.\n",
    "def isPrime(num)\n",
    "''';"
   ]
  },
  {
   "cell_type": "code",
   "execution_count": 59,
   "id": "72d47ad8-ebe0-4476-9ece-763f3cc0b332",
   "metadata": {},
   "outputs": [],
   "source": [
    "def isPrime(num):\n",
    "    if num > 1:\n",
    "        for i in range(2, (num // 2)+1):\n",
    "            if(num % i) == 0:\n",
    "                print('not a prime number')\n",
    "                break\n",
    "            else:\n",
    "                print('prime number')\n",
    "    else:\n",
    "        print('not a prime number')"
   ]
  },
  {
   "cell_type": "code",
   "execution_count": 60,
   "id": "3e6de3a8-5c6c-4a50-9a02-453bffb50a7e",
   "metadata": {},
   "outputs": [
    {
     "name": "stdout",
     "output_type": "stream",
     "text": [
      "prime number\n",
      "prime number\n"
     ]
    }
   ],
   "source": [
    "isPrime(7)"
   ]
  },
  {
   "cell_type": "code",
   "execution_count": 61,
   "id": "483e246e-4cad-41a9-8dc4-078713fd15a8",
   "metadata": {},
   "outputs": [
    {
     "name": "stdout",
     "output_type": "stream",
     "text": [
      "not a prime number\n"
     ]
    }
   ],
   "source": [
    "isPrime(4)"
   ]
  },
  {
   "cell_type": "code",
   "execution_count": 64,
   "id": "1d647117-9538-4118-a82a-a660c2a68aa0",
   "metadata": {},
   "outputs": [],
   "source": [
    "'''\n",
    "3. Write a function is_palindrome(string) that takes a string as input and returns\n",
    "True if the string reads the same backward as forward (e.g., \"racecar\" is a palindrome).\n",
    "''';"
   ]
  },
  {
   "cell_type": "code",
   "execution_count": 65,
   "id": "9ae4259f-d8d1-44bc-a495-e299cc4e74e2",
   "metadata": {},
   "outputs": [],
   "source": [
    "def is_palindrome(string):\n",
    "    if string == string[::-1]:\n",
    "        print(string, 'is pallindrome')\n",
    "    else:\n",
    "        print(string, 'is not pallindrome')"
   ]
  },
  {
   "cell_type": "code",
   "execution_count": 66,
   "id": "4da709bb-719d-4e45-a7a7-57204c5a5c20",
   "metadata": {},
   "outputs": [
    {
     "name": "stdout",
     "output_type": "stream",
     "text": [
      "racecar is pallindrome\n"
     ]
    }
   ],
   "source": [
    "is_palindrome('racecar')"
   ]
  },
  {
   "cell_type": "code",
   "execution_count": 67,
   "id": "5de592a3-a47b-4c37-bfbe-4f63a0f214a5",
   "metadata": {},
   "outputs": [
    {
     "name": "stdout",
     "output_type": "stream",
     "text": [
      "hello is not pallindrome\n"
     ]
    }
   ],
   "source": [
    "is_palindrome('hello')"
   ]
  },
  {
   "cell_type": "code",
   "execution_count": 68,
   "id": "e08171f7-fb68-49b8-9410-1ec17dd7de95",
   "metadata": {},
   "outputs": [],
   "source": [
    "'''\n",
    "4. Write a function reverse_list(data) that takes a list as input and returns a new list\n",
    "with the elements in reverse order (e.g., reverse_list([1, 2, 3]) returns [3, 2, 1]).\n",
    "''';"
   ]
  },
  {
   "cell_type": "code",
   "execution_count": 69,
   "id": "248fda69-8a24-4625-b68c-eb67e8a8e4e3",
   "metadata": {},
   "outputs": [],
   "source": [
    "data = [12,23,34,45,56,67]\n",
    "\n",
    "def reverse_list(data):\n",
    "    print(data[::-1])"
   ]
  },
  {
   "cell_type": "code",
   "execution_count": 70,
   "id": "99612dd5-96eb-4f2c-9eb4-6d8762b35deb",
   "metadata": {},
   "outputs": [
    {
     "name": "stdout",
     "output_type": "stream",
     "text": [
      "[67, 56, 45, 34, 23, 12]\n"
     ]
    }
   ],
   "source": [
    "reverse_list(data)"
   ]
  },
  {
   "cell_type": "code",
   "execution_count": 71,
   "id": "9ddacfbe-8dac-4a8d-b8fd-882e53effa25",
   "metadata": {},
   "outputs": [],
   "source": [
    "'''\n",
    "5. Write a function write_file(filename, content) that takes a filename and\n",
    "content as input and writes the content to the specified file.\n",
    "''';"
   ]
  },
  {
   "cell_type": "code",
   "execution_count": 72,
   "id": "45eb590e-5254-4580-9bf4-b4052523c60c",
   "metadata": {},
   "outputs": [
    {
     "name": "stdout",
     "output_type": "stream",
     "text": [
      "Successfully wrote content to {'test.txt'}\n"
     ]
    }
   ],
   "source": [
    "def write_file(filename, content):\n",
    "    try:\n",
    "        with open(filename, 'w') as file:\n",
    "            file.write(content)\n",
    "        print(\"Successfully wrote content to\", {filename})\n",
    "    except IOError:\n",
    "        print(\"Error: Could not write to\", {filename})\n",
    "\n",
    "# Example usage:\n",
    "filename = \"test.txt\"\n",
    "content = \"\"\" Helloo This is a sample text.\n",
    "It will be written to a file.\n",
    "Goodbye!\"\"\"\n",
    "write_file(filename, content)"
   ]
  },
  {
   "cell_type": "code",
   "execution_count": 73,
   "id": "1a13c56d-b0d0-4443-a644-09673be1dd58",
   "metadata": {},
   "outputs": [],
   "source": [
    "'''\n",
    "6. Write a function copy_file(source_filename, destination_filename) that\n",
    "takes the source and destination filenames as input and copies the content of the source\n",
    "file to the destination file. Handle cases where the source file doesn't exist.\n",
    "''';"
   ]
  },
  {
   "cell_type": "code",
   "execution_count": 74,
   "id": "59821023-51d6-46c7-8c72-feb8eb05fb48",
   "metadata": {},
   "outputs": [],
   "source": [
    "def copy_file(source_filename,destination_filename):\n",
    "    with open('source.txt','r') as s,open('destiantion.txt','w') as d:\n",
    "        for line in s:\n",
    "            d.write(line)"
   ]
  },
  {
   "cell_type": "code",
   "execution_count": 75,
   "id": "61944a51-79d9-4b88-aff4-971add13cd40",
   "metadata": {},
   "outputs": [],
   "source": [
    "copy_file('source.txt','destination.txt')"
   ]
  },
  {
   "cell_type": "code",
   "execution_count": 76,
   "id": "740a9faf-20b7-4192-943b-de538094c7d6",
   "metadata": {},
   "outputs": [],
   "source": [
    "'''\n",
    "7. Implement a function to calculate the dot product of two NumPy arrays.\n",
    "''';\n"
   ]
  },
  {
   "cell_type": "code",
   "execution_count": 77,
   "id": "0fd5637d-7625-45ff-b2ff-89c6dafa19a3",
   "metadata": {},
   "outputs": [
    {
     "name": "stdout",
     "output_type": "stream",
     "text": [
      "[[  23  136  270]\n",
      " [ 225   56 5226]\n",
      " [  46  504  360]]\n"
     ]
    }
   ],
   "source": [
    "import numpy as np\n",
    "def calculate_dot_product(arr1, arr2):\n",
    "    return (arr1*arr2)\n",
    "arr1=np.array([[1,4,6],[5,1,78],[23,56,90]])\n",
    "arr2=np.array([[23,34,45],[45,56,67],[2,9,4]])\n",
    "result = calculate_dot_product(arr1, arr2)\n",
    "print(result) "
   ]
  },
  {
   "cell_type": "code",
   "execution_count": 78,
   "id": "636efa86-3c7d-42d3-9b8f-55a695d739aa",
   "metadata": {},
   "outputs": [],
   "source": [
    "'''\n",
    "8. Implement a GUI with a radio button selection for choosing a favorite color (e.g., red,\n",
    "green, blue). Change the background color of the window based on the selected radio\n",
    "button.\n",
    "''';"
   ]
  },
  {
   "cell_type": "code",
   "execution_count": 79,
   "id": "2b49d3b2-d641-4d2d-8796-3d6fc79db67e",
   "metadata": {},
   "outputs": [],
   "source": [
    "import tkinter as tk\n",
    "from tkinter import ttk\n",
    "\n",
    "\n",
    "def change_color():\n",
    "    selected_color = color_var.get()\n",
    "    top.configure(bg=selected_color)\n",
    "\n",
    "top=tk.Tk()\n",
    "top.title('background color')\n",
    "top.geometry('550x400') \n",
    "\n",
    "color_var=tk.StringVar()\n",
    "\n",
    "colors=['red','green','blue','lavender','skyblue','pink','black']\n",
    "for color in colors:\n",
    "    radio_button=ttk.Radiobutton(top,text=color,value=color,variable=color_var\n",
    "                                ,command=change_color)\n",
    "    radio_button.pack(anchor=tk.W)\n",
    "\n",
    "\n",
    "top.mainloop()\n",
    " "
   ]
  },
  {
   "cell_type": "code",
   "execution_count": 80,
   "id": "b4ad237e-e9c1-4439-8a8c-a4b2393b3298",
   "metadata": {},
   "outputs": [],
   "source": [
    "'''\n",
    "9. Design a currency converter GUI. Allow users to enter an amount and select the\n",
    "currencies they want to convert between (e.g., USD, EUR). Display the converted\n",
    "amount in the selected currency.\n",
    "''';"
   ]
  },
  {
   "cell_type": "code",
   "execution_count": 81,
   "id": "03cc16d4-ea71-4b39-9682-f5243cca3630",
   "metadata": {},
   "outputs": [],
   "source": [
    "import tkinter as tk\n",
    "from tkinter import ttk, messagebox\n",
    "import requests\n",
    "\n",
    "class CurrencyConverter(tk.Tk):\n",
    "    def __init__(self):\n",
    "        super().__init__()\n",
    "\n",
    "        self.title(\"Currency Converter\")\n",
    "        self.geometry(\"400x200\")\n",
    "\n",
    "        self.amount_label = tk.Label(self, text=\"Amount:\")\n",
    "        self.amount_label.grid(row=0, column=0, padx=10, pady=10)\n",
    "        \n",
    "        self.amount_entry = tk.Entry(self)\n",
    "        self.amount_entry.grid(row=0, column=1, padx=10, pady=10)\n",
    "\n",
    "        self.from_currency_label = tk.Label(self, text=\"From:\")\n",
    "        self.from_currency_label.grid(row=1, column=0, padx=10, pady=10)\n",
    "        \n",
    "        self.from_currency_combobox = ttk.Combobox(self, values=self.get_currency_list())\n",
    "        self.from_currency_combobox.grid(row=1, column=1, padx=10, pady=10)\n",
    "\n",
    "        self.to_currency_label = tk.Label(self, text=\"To:\")\n",
    "        self.to_currency_label.grid(row=2, column=0, padx=10, pady=10)\n",
    "        \n",
    "        self.to_currency_combobox = ttk.Combobox(self, values=self.get_currency_list())\n",
    "        self.to_currency_combobox.grid(row=2, column=1, padx=10, pady=10)\n",
    "\n",
    "        self.convert_button = tk.Button(self, text=\"Convert\", command=self.convert_currency)\n",
    "        self.convert_button.grid(row=3, column=1, padx=10, pady=10)\n",
    "\n",
    "        self.result_label = tk.Label(self, text=\"Converted Amount:\")\n",
    "        self.result_label.grid(row=4, column=0, padx=10, pady=10)\n",
    "        \n",
    "        self.result_value = tk.Label(self, text=\"\")\n",
    "        self.result_value.grid(row=4, column=1, padx=10, pady=10)\n",
    "\n",
    "    def get_currency_list(self):\n",
    "        response = requests.get('https://api.exchangerate-api.com/v4/latest/USD')\n",
    "        if response.status_code == 200:\n",
    "            data = response.json()\n",
    "            return list(data['rates'].keys())\n",
    "        else:\n",
    "            messagebox.showerror(\"Error\", \"Failed to fetch currency list\")\n",
    "            return []\n",
    "\n",
    "    def convert_currency(self):\n",
    "        try:\n",
    "            amount = float(self.amount_entry.get())\n",
    "            from_currency = self.from_currency_combobox.get()\n",
    "            to_currency = self.to_currency_combobox.get()\n",
    "\n",
    "            response = requests.get(f'https://api.exchangerate-api.com/v4/latest/{from_currency}')\n",
    "            if response.status_code == 200:\n",
    "                data = response.json()\n",
    "                rate = data['rates'][to_currency]\n",
    "                converted_amount = amount * rate\n",
    "                self.result_value.config(text=f\"{converted_amount:.2f}\")\n",
    "            else:\n",
    "                messagebox.showerror(\"Error\", \"Failed to fetch conversion rate\")\n",
    "        except ValueError:\n",
    "            messagebox.showerror(\"Error\", \"Invalid amount entered\")\n",
    "        except Exception as e:\n",
    "            messagebox.showerror(\"Error\", str(e))\n",
    "\n",
    "if __name__ == \"__main__\":\n",
    "    app = CurrencyConverter()\n",
    "    app.mainloop()\n"
   ]
  },
  {
   "cell_type": "code",
   "execution_count": null,
   "id": "ebb0bb5d-9465-4a64-93db-aa7d5c12db2d",
   "metadata": {},
   "outputs": [],
   "source": []
  }
 ],
 "metadata": {
  "kernelspec": {
   "display_name": "Python 3 (ipykernel)",
   "language": "python",
   "name": "python3"
  },
  "language_info": {
   "codemirror_mode": {
    "name": "ipython",
    "version": 3
   },
   "file_extension": ".py",
   "mimetype": "text/x-python",
   "name": "python",
   "nbconvert_exporter": "python",
   "pygments_lexer": "ipython3",
   "version": "3.11.7"
  }
 },
 "nbformat": 4,
 "nbformat_minor": 5
}
