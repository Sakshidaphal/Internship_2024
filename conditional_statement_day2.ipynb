{
 "cells": [
  {
   "cell_type": "markdown",
   "id": "0f8754ca-ba0a-462a-96f5-857aae866009",
   "metadata": {},
   "source": [
    "### DECISION MAKING"
   ]
  },
  {
   "cell_type": "code",
   "execution_count": 2,
   "id": "5c6cb605-083d-4180-b912-dfb288290041",
   "metadata": {},
   "outputs": [
    {
     "name": "stdin",
     "output_type": "stream",
     "text": [
      "enter the number 60\n"
     ]
    },
    {
     "name": "stdout",
     "output_type": "stream",
     "text": [
      "number is greater\n"
     ]
    }
   ],
   "source": [
    "#check if a number is greater than 50\n",
    "num = int (input('enter the number'))\n",
    "\n",
    "if (num>50):\n",
    "    print('number is greater')\n",
    "    "
   ]
  },
  {
   "cell_type": "code",
   "execution_count": 3,
   "id": "ae0ecb64-d143-412a-a898-adcd8f6b63b2",
   "metadata": {},
   "outputs": [
    {
     "name": "stdin",
     "output_type": "stream",
     "text": [
      "enter the number 10\n"
     ]
    },
    {
     "name": "stdout",
     "output_type": "stream",
     "text": [
      "number is positive\n"
     ]
    }
   ],
   "source": [
    "#check if a number is positive or negative\n",
    "num = int (input('enter the number'))\n",
    "\n",
    "if (num > 0):\n",
    "    print('number is positive')\n",
    "else:\n",
    "    print ('number is negative')"
   ]
  },
  {
   "cell_type": "code",
   "execution_count": 4,
   "id": "a2881f9a-e834-47ac-81ee-7f78939be848",
   "metadata": {},
   "outputs": [
    {
     "name": "stdin",
     "output_type": "stream",
     "text": [
      "enter the number 0\n"
     ]
    },
    {
     "name": "stdout",
     "output_type": "stream",
     "text": [
      "number is zero\n"
     ]
    }
   ],
   "source": [
    "#check if a number is positive or negative\n",
    "num = int (input('enter the number'))\n",
    "\n",
    "if (num > 0):\n",
    "    print('number is positive')\n",
    "elif(num == 0):\n",
    "    print ('number is zero')\n",
    "else:\n",
    "    print('number is negative')"
   ]
  },
  {
   "cell_type": "code",
   "execution_count": 5,
   "id": "99cbd40b-40aa-4ba6-9de3-b6dd166ec8e9",
   "metadata": {},
   "outputs": [
    {
     "name": "stdin",
     "output_type": "stream",
     "text": [
      "enter the number 3\n"
     ]
    },
    {
     "name": "stdout",
     "output_type": "stream",
     "text": [
      "number is odd\n"
     ]
    }
   ],
   "source": [
    "# check if the number is even or odd \n",
    "num = int (input('enter the number'))\n",
    "\n",
    "if(num % 2 == 0):\n",
    "    print('number is even')\n",
    "else:\n",
    "    print('number is odd')"
   ]
  },
  {
   "cell_type": "code",
   "execution_count": 6,
   "id": "2c3c79e4-855b-4818-93b6-cd5638939127",
   "metadata": {},
   "outputs": [
    {
     "data": {
      "text/plain": [
       "0"
      ]
     },
     "execution_count": 6,
     "metadata": {},
     "output_type": "execute_result"
    }
   ],
   "source": [
    "int(False)"
   ]
  },
  {
   "cell_type": "code",
   "execution_count": 7,
   "id": "9d154c1e-2eaa-43c8-81f6-1270ad781173",
   "metadata": {},
   "outputs": [
    {
     "data": {
      "text/plain": [
       "1"
      ]
     },
     "execution_count": 7,
     "metadata": {},
     "output_type": "execute_result"
    }
   ],
   "source": [
    "int(True)"
   ]
  },
  {
   "cell_type": "code",
   "execution_count": 8,
   "id": "00209298-9610-4251-bd32-5a28ad037915",
   "metadata": {},
   "outputs": [
    {
     "data": {
      "text/plain": [
       "2"
      ]
     },
     "execution_count": 8,
     "metadata": {},
     "output_type": "execute_result"
    }
   ],
   "source": [
    "True + True + False"
   ]
  },
  {
   "cell_type": "code",
   "execution_count": 9,
   "id": "179613f8-9945-46a3-96af-247f42ad413a",
   "metadata": {},
   "outputs": [
    {
     "name": "stdout",
     "output_type": "stream",
     "text": [
      "ok\n"
     ]
    }
   ],
   "source": [
    "#check if it is exist or nor\n",
    "a = 90\n",
    "if a:\n",
    "    print('ok')"
   ]
  },
  {
   "cell_type": "code",
   "execution_count": 10,
   "id": "6dd0f86f-74b7-4a32-9ff3-f2d31d1d540b",
   "metadata": {},
   "outputs": [
    {
     "name": "stdin",
     "output_type": "stream",
     "text": [
      "enter the number 160\n"
     ]
    },
    {
     "name": "stdout",
     "output_type": "stream",
     "text": [
      "greater than 150\n"
     ]
    }
   ],
   "source": [
    "# check if the number is in between 50 and 150\n",
    "num = int (input('enter the number'))\n",
    "if num > 50:\n",
    "    if num < 150:\n",
    "        print('ok')\n",
    "    else:\n",
    "        print('greater than 150')\n",
    "else:\n",
    "    print('no correct')\n"
   ]
  },
  {
   "cell_type": "code",
   "execution_count": 11,
   "id": "38e88261-3fe6-47eb-97cf-b77c2edbb999",
   "metadata": {},
   "outputs": [
    {
     "name": "stdin",
     "output_type": "stream",
     "text": [
      "enter the number 60\n"
     ]
    },
    {
     "name": "stdout",
     "output_type": "stream",
     "text": [
      "correct\n"
     ]
    }
   ],
   "source": [
    "# check if the number is in between 50 and 150\n",
    "num = int (input('enter the number'))\n",
    "if num > 50 and num < 150:\n",
    "        print('correct')\n",
    "else:\n",
    "    print('incorrect')"
   ]
  },
  {
   "cell_type": "code",
   "execution_count": 12,
   "id": "de153f8e-345f-4751-9c44-8b3cd6419c5b",
   "metadata": {},
   "outputs": [
    {
     "name": "stdin",
     "output_type": "stream",
     "text": [
      "enter the purchase cost 300\n",
      "enter the selling cost 400\n"
     ]
    },
    {
     "name": "stdout",
     "output_type": "stream",
     "text": [
      "profit 100\n"
     ]
    }
   ],
   "source": [
    "# read the purchase cost and  selling cost \n",
    "#state profit or loss and how much?\n",
    "pc = int(input('enter the purchase cost'))\n",
    "sc = int(input('enter the selling cost'))\n",
    "if sc > pc :\n",
    "    print ('profit',sc-pc)\n",
    "else :\n",
    "    print ('loss', pc-sc)\n"
   ]
  },
  {
   "cell_type": "code",
   "execution_count": 13,
   "id": "e7765800-ed9d-4b1d-afdd-94363a4ecf48",
   "metadata": {},
   "outputs": [
    {
     "name": "stdin",
     "output_type": "stream",
     "text": [
      "enter the 1st number 10\n",
      "enter the 2nd number 30\n",
      "enter the 3rd number 20\n"
     ]
    },
    {
     "name": "stdout",
     "output_type": "stream",
     "text": [
      "n2 is greater\n"
     ]
    }
   ],
   "source": [
    "# take 3 numbers find the largest of them\n",
    "#not allowed to use 'and' or 'or'\n",
    "n1 = int(input('enter the 1st number'))\n",
    "n2 = int(input('enter the 2nd number'))\n",
    "n3 = int(input('enter the 3rd number'))\n",
    "if n1 > n2:\n",
    "    if n1 > n3:\n",
    "        print('n1 is greater')\n",
    "    else:\n",
    "        print('n3 is greater')\n",
    "else:\n",
    "    if n2 > n3:\n",
    "            print ('n2 is greater')\n",
    "    else:\n",
    "        print ('n3 is greater')"
   ]
  },
  {
   "cell_type": "code",
   "execution_count": 14,
   "id": "a361e7cb-1eeb-4444-8a83-4e535d0e07d0",
   "metadata": {},
   "outputs": [
    {
     "name": "stdin",
     "output_type": "stream",
     "text": [
      "enter the year number 2000\n"
     ]
    },
    {
     "name": "stdout",
     "output_type": "stream",
     "text": [
      " leap century year\n"
     ]
    }
   ],
   "source": [
    "# check if the year is leap or not\n",
    "year = int(input('enter the year number'))\n",
    "if year % 4 == 0:\n",
    "    if year % 100 == 0:\n",
    "        if year % 400 == 0:\n",
    "           print(' leap century year')\n",
    "        else:\n",
    "           print(' century year but not leap')\n",
    "    else:\n",
    "        print ('leap year')\n",
    "else:\n",
    "    print('not a leap year')\n"
   ]
  },
  {
   "cell_type": "code",
   "execution_count": 15,
   "id": "bc83566c-bcd7-4e4f-83fc-79daf7b7b09d",
   "metadata": {},
   "outputs": [
    {
     "name": "stdin",
     "output_type": "stream",
     "text": [
      "enter marks 100\n"
     ]
    },
    {
     "name": "stdout",
     "output_type": "stream",
     "text": [
      "first class\n"
     ]
    }
   ],
   "source": [
    "'''>60 fs\n",
    "> 50 sf\n",
    ">40 ts\n",
    ">35 pass\n",
    "<=35 fail\n",
    "''';\n",
    "m = int(input('enter marks'))\n",
    "if m >= 60 :\n",
    "    print ('first class')\n",
    "elif m >= 50 :\n",
    "    print('second class')\n",
    "elif m >= 40 :\n",
    "    print('third  class')\n",
    "elif m >= 35 :\n",
    "    print('pass')\n",
    "else:\n",
    "    print('fail')"
   ]
  },
  {
   "cell_type": "code",
   "execution_count": 16,
   "id": "ec9402b1-c7bf-4136-9b08-24466098daf5",
   "metadata": {},
   "outputs": [
    {
     "name": "stdin",
     "output_type": "stream",
     "text": [
      "enter the number 12\n"
     ]
    },
    {
     "name": "stdout",
     "output_type": "stream",
     "text": [
      "MENU:\n",
      "1.square\n",
      "2.cube\n",
      "3.check positive or negative\n"
     ]
    },
    {
     "name": "stdin",
     "output_type": "stream",
     "text": [
      "enter your choice 1\n"
     ]
    },
    {
     "name": "stdout",
     "output_type": "stream",
     "text": [
      "square is: 144\n"
     ]
    }
   ],
   "source": [
    "# menu driven program\n",
    "'''\n",
    "based on the choice it will do square , cube ,or\n",
    "check positive or negative\n",
    "'''\n",
    "num = int(input('enter the number'))\n",
    "print('MENU:\\n1.square\\n2.cube\\n3.check positive or negative')\n",
    "choice = int(input('enter your choice'))\n",
    "if choice == 1:\n",
    "    print('square is:',num * num)\n",
    "elif choice == 2:\n",
    "    print('cube is:',num * num * num)\n",
    "elif choice == 3:\n",
    "    if num > 0:\n",
    "        print('positive')\n",
    "    else:\n",
    "        print('negative')\n",
    "else:\n",
    "    print('invalid choice')\n",
    "    "
   ]
  },
  {
   "cell_type": "code",
   "execution_count": 17,
   "id": "2cdb6990-a740-458a-8fa7-d9b58b185551",
   "metadata": {},
   "outputs": [
    {
     "name": "stdin",
     "output_type": "stream",
     "text": [
      "enter the number 50\n",
      "enter the number 25\n"
     ]
    },
    {
     "name": "stdout",
     "output_type": "stream",
     "text": [
      "MENU:\n",
      "1.addition\n",
      "2.subtraction\n",
      "3.floor division\n"
     ]
    },
    {
     "name": "stdin",
     "output_type": "stream",
     "text": [
      "enter your choice 2\n"
     ]
    },
    {
     "name": "stdout",
     "output_type": "stream",
     "text": [
      "subtraction is: 25\n"
     ]
    }
   ],
   "source": [
    "# menu deiven program\n",
    "# raed 2 no and perform add , subtraction ,  floor division\n",
    "# which one is greater based on choice\n",
    "num1 = int(input('enter the number'))\n",
    "num2 = int(input('enter the number'))\n",
    "print('MENU:\\n1.addition\\n2.subtraction\\n3.floor division')\n",
    "choice = int(input('enter your choice'))\n",
    "if choice == 1:\n",
    "    print('addition is:',num1 + num2)\n",
    "elif choice == 2:\n",
    "    print('subtraction is:',num1 - num2)\n",
    "elif choice == 3:\n",
    "    print('floor division:', num1 // num2)   \n",
    "else:\n",
    "    print('invalid choice')\n"
   ]
  },
  {
   "cell_type": "code",
   "execution_count": null,
   "id": "3cbff502-651c-427c-b83b-cf8e5685c835",
   "metadata": {},
   "outputs": [],
   "source": []
  }
 ],
 "metadata": {
  "kernelspec": {
   "display_name": "Python 3 (ipykernel)",
   "language": "python",
   "name": "python3"
  },
  "language_info": {
   "codemirror_mode": {
    "name": "ipython",
    "version": 3
   },
   "file_extension": ".py",
   "mimetype": "text/x-python",
   "name": "python",
   "nbconvert_exporter": "python",
   "pygments_lexer": "ipython3",
   "version": "3.11.7"
  }
 },
 "nbformat": 4,
 "nbformat_minor": 5
}
