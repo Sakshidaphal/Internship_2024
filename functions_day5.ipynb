{
 "cells": [
  {
   "cell_type": "markdown",
   "id": "5c179af9-051d-4774-8212-e0cb1920efcd",
   "metadata": {},
   "source": [
    "### function"
   ]
  },
  {
   "cell_type": "code",
   "execution_count": 5,
   "id": "48dfab82-ca3c-4cda-aa54-f19d9532d363",
   "metadata": {},
   "outputs": [
    {
     "name": "stdout",
     "output_type": "stream",
     "text": [
      "h\n"
     ]
    }
   ],
   "source": [
    "print('h')"
   ]
  },
  {
   "cell_type": "code",
   "execution_count": 1,
   "id": "b5f83cfd-623c-4f50-874c-91d80fcc2b39",
   "metadata": {},
   "outputs": [],
   "source": [
    "#define function\n",
    "def show():          #  function definition\n",
    "    print('hello')\n",
    "    print('hi')\n",
    "    print('ok')\n",
    "    print('goodbay')"
   ]
  },
  {
   "cell_type": "code",
   "execution_count": 2,
   "id": "602faa00-d607-4872-b3da-9213a01bc534",
   "metadata": {},
   "outputs": [
    {
     "name": "stdout",
     "output_type": "stream",
     "text": [
      "hello\n",
      "hi\n",
      "ok\n",
      "goodbay\n"
     ]
    }
   ],
   "source": [
    "show()      #  function call"
   ]
  },
  {
   "cell_type": "code",
   "execution_count": 3,
   "id": "3f77a531-ded4-44e7-b896-308c8554d82e",
   "metadata": {},
   "outputs": [
    {
     "name": "stdout",
     "output_type": "stream",
     "text": [
      "hello\n",
      "hi\n",
      "ok\n",
      "goodbay\n",
      "hello\n",
      "hi\n",
      "ok\n",
      "goodbay\n",
      "hello\n",
      "hi\n",
      "ok\n",
      "goodbay\n"
     ]
    }
   ],
   "source": [
    "show()             #  want to call function multiple time.\n",
    "show()\n",
    "show()"
   ]
  },
  {
   "cell_type": "markdown",
   "id": "5bea6bd7-b80f-4fd4-a9ec-6e0f00b816e2",
   "metadata": {},
   "source": [
    "### PARAMETERIZED FUNCTION"
   ]
  },
  {
   "cell_type": "code",
   "execution_count": 4,
   "id": "166403e3-3c22-4940-a11f-fdab5107d394",
   "metadata": {},
   "outputs": [],
   "source": [
    "def square(n):\n",
    "    res = n * n\n",
    "    print('square is :', res)"
   ]
  },
  {
   "cell_type": "code",
   "execution_count": 5,
   "id": "7a966818-0c34-47de-a252-bf237dcad27c",
   "metadata": {},
   "outputs": [
    {
     "name": "stdout",
     "output_type": "stream",
     "text": [
      "square is : 100\n"
     ]
    }
   ],
   "source": [
    "square(10)"
   ]
  },
  {
   "cell_type": "markdown",
   "id": "d4689dea-4f54-4d86-b9a9-605b3f866b26",
   "metadata": {},
   "source": [
    "num = int(input('enter number'))\n",
    "square(num)"
   ]
  },
  {
   "cell_type": "markdown",
   "id": "c22b547b-6793-48b3-9c47-75b117cf53f2",
   "metadata": {},
   "source": [
    "### multi parameterized function"
   ]
  },
  {
   "cell_type": "code",
   "execution_count": 7,
   "id": "5903092e-1cab-4f61-bf56-7c1d1b4250f1",
   "metadata": {},
   "outputs": [],
   "source": [
    "def largest(a,b):\n",
    "    if a> b:\n",
    "        print(a,'is greater')\n",
    "    elif a==b:\n",
    "        print('equal')\n",
    "    else:\n",
    "        print(b,'is greater')"
   ]
  },
  {
   "cell_type": "code",
   "execution_count": 8,
   "id": "ef7c4e6a-4fea-484e-b28e-7c05cc3f1982",
   "metadata": {},
   "outputs": [
    {
     "name": "stdout",
     "output_type": "stream",
     "text": [
      "5 is greater\n"
     ]
    }
   ],
   "source": [
    "largest(4,5)"
   ]
  },
  {
   "cell_type": "code",
   "execution_count": 9,
   "id": "0e551e61-4c2d-4c0f-8bcc-52dc3d9b48f6",
   "metadata": {},
   "outputs": [],
   "source": [
    "# write a function which will print a sting n number of times.\n",
    "def dis(name , n):\n",
    "    for i in range(n):\n",
    "        print(name)"
   ]
  },
  {
   "cell_type": "code",
   "execution_count": 10,
   "id": "9979ac32-d69f-4242-8ca9-d37e5e9ff37a",
   "metadata": {},
   "outputs": [
    {
     "name": "stdout",
     "output_type": "stream",
     "text": [
      "pune\n",
      "pune\n",
      "pune\n",
      "pune\n",
      "pune\n",
      "pune\n",
      "pune\n"
     ]
    }
   ],
   "source": [
    "dis('pune',7)"
   ]
  },
  {
   "cell_type": "code",
   "execution_count": 11,
   "id": "06613b85-a38b-458c-8f5c-ec4fa59f82ce",
   "metadata": {},
   "outputs": [],
   "source": [
    "# function for factorial\n",
    "def fact(n):\n",
    "    fact = 1\n",
    "    for i in range(1 , n + 1):\n",
    "         fact = fact * i\n",
    "    print('factorial:', fact)\n"
   ]
  },
  {
   "cell_type": "code",
   "execution_count": 12,
   "id": "ab543b9c-94b2-4ae7-8c4e-5a5b2fdb2953",
   "metadata": {},
   "outputs": [
    {
     "name": "stdout",
     "output_type": "stream",
     "text": [
      "factorial: 120\n"
     ]
    }
   ],
   "source": [
    "fact(5)"
   ]
  },
  {
   "cell_type": "markdown",
   "id": "5686486a-ea69-4c25-af56-60a2f94e710a",
   "metadata": {},
   "source": [
    "### RETURN KEYWORD"
   ]
  },
  {
   "cell_type": "code",
   "execution_count": 13,
   "id": "ad5ff2a7-18a9-4061-b917-002ea94d955d",
   "metadata": {},
   "outputs": [],
   "source": [
    "# function returning values\n",
    "def square(n):\n",
    "    res = n * n\n",
    "    return res\n",
    "    "
   ]
  },
  {
   "cell_type": "code",
   "execution_count": 14,
   "id": "01cbfbb2-95bc-4895-81f4-caa60c70bfb1",
   "metadata": {},
   "outputs": [
    {
     "data": {
      "text/plain": [
       "25"
      ]
     },
     "execution_count": 14,
     "metadata": {},
     "output_type": "execute_result"
    }
   ],
   "source": [
    "square(5)"
   ]
  },
  {
   "cell_type": "markdown",
   "id": "9c629068-a456-436b-88c6-e9af17b45d0d",
   "metadata": {},
   "source": [
    "### difference between return and printm"
   ]
  },
  {
   "cell_type": "code",
   "execution_count": 15,
   "id": "1b54f01a-d099-4387-8bca-47a7ebf3a543",
   "metadata": {},
   "outputs": [
    {
     "name": "stdout",
     "output_type": "stream",
     "text": [
      "15\n",
      "None\n",
      "15\n",
      "result: None\n"
     ]
    }
   ],
   "source": [
    "def add(a , b):\n",
    "    res = a + b    \n",
    "    print(res)     # PRINT\n",
    "   \n",
    "\n",
    "    \n",
    "print(add(5,10))\n",
    "\n",
    "\n",
    "op = add( 5 , 10)\n",
    "\n",
    "print('result:' , op)"
   ]
  },
  {
   "cell_type": "code",
   "execution_count": 16,
   "id": "98a57ab8-ee7f-482f-a907-176e24177dae",
   "metadata": {},
   "outputs": [
    {
     "name": "stdout",
     "output_type": "stream",
     "text": [
      "15\n",
      "result: 15\n"
     ]
    }
   ],
   "source": [
    "def add(a , b):\n",
    "    res = a + b\n",
    "    return res    # RETURN\n",
    "\n",
    "    \n",
    "print(add(5,10))\n",
    "\n",
    "op = add( 5 , 10)\n",
    "\n",
    "print('result:' , op)"
   ]
  },
  {
   "cell_type": "code",
   "execution_count": 17,
   "id": "0105a485-68aa-4f12-b79a-1cde0a0bbec8",
   "metadata": {},
   "outputs": [],
   "source": [
    "# MULTIPLE RETURN STATEMENT\n",
    "def largest(a,b):\n",
    "    if a> b:\n",
    "       return a\n",
    "    elif a==b:\n",
    "       return 'equal'\n",
    "    else:\n",
    "        return b"
   ]
  },
  {
   "cell_type": "code",
   "execution_count": 18,
   "id": "e513e55c-d5b7-4dc0-8ae5-6811ac2f9052",
   "metadata": {},
   "outputs": [
    {
     "data": {
      "text/plain": [
       "'equal'"
      ]
     },
     "execution_count": 18,
     "metadata": {},
     "output_type": "execute_result"
    }
   ],
   "source": [
    "largest(7 , 7)"
   ]
  },
  {
   "cell_type": "markdown",
   "id": "d390079c-b22e-498b-96fd-bf6f5cd558f2",
   "metadata": {},
   "source": [
    "### PERMETITION AND COMBINAION"
   ]
  },
  {
   "cell_type": "code",
   "execution_count": 2,
   "id": "fee75dc7-33e9-4837-beb0-b721741d3b87",
   "metadata": {},
   "outputs": [],
   "source": [
    "def fact(n):\n",
    "    fact = 1\n",
    "    for i in range(1 , n + 1):\n",
    "         fact = fact * i\n",
    "    return fact"
   ]
  },
  {
   "cell_type": "code",
   "execution_count": 3,
   "id": "e8102712-1847-4652-8d26-303306f5a065",
   "metadata": {},
   "outputs": [
    {
     "name": "stdin",
     "output_type": "stream",
     "text": [
      "toatl: 10\n",
      "combination of: 5\n"
     ]
    },
    {
     "data": {
      "text/plain": [
       "252.0"
      ]
     },
     "execution_count": 3,
     "metadata": {},
     "output_type": "execute_result"
    }
   ],
   "source": [
    "# FORMULA: ncr = n! / r!(n-r)!\n",
    "n = int(input('toatl:'))\n",
    "r = int(input('combination of:'))\n",
    "ncr = fact(n) / (fact(r) * fact(n-r))\n",
    "ncr"
   ]
  },
  {
   "cell_type": "code",
   "execution_count": 21,
   "id": "d22757c9-5a95-4bc4-9538-9fef657e4c69",
   "metadata": {},
   "outputs": [],
   "source": [
    "def calc(n):\n",
    "    sq = n* n\n",
    "    cu = n ** 3\n",
    "    return sq , cu"
   ]
  },
  {
   "cell_type": "code",
   "execution_count": 22,
   "id": "1d0bb5d3-5d82-432c-888c-7d9cdd2858ea",
   "metadata": {},
   "outputs": [
    {
     "data": {
      "text/plain": [
       "(25, 125)"
      ]
     },
     "execution_count": 22,
     "metadata": {},
     "output_type": "execute_result"
    }
   ],
   "source": [
    "calc(5)"
   ]
  },
  {
   "cell_type": "code",
   "execution_count": 23,
   "id": "8b7b955a-15a4-41ea-a417-f3a1cf13f54b",
   "metadata": {},
   "outputs": [
    {
     "name": "stdin",
     "output_type": "stream",
     "text": [
      "enter the number 12\n"
     ]
    },
    {
     "name": "stdout",
     "output_type": "stream",
     "text": [
      "square 144\n",
      "cube 1728\n"
     ]
    }
   ],
   "source": [
    "n = int(input('enter the number'))\n",
    "x , y = calc(n)\n",
    "print('square' , x)\n",
    "print('cube' , y)"
   ]
  },
  {
   "cell_type": "markdown",
   "id": "0e3f150a-cf8e-406d-8142-6c7f18877f89",
   "metadata": {},
   "source": [
    "### DEFAULT PARAMETER"
   ]
  },
  {
   "cell_type": "code",
   "execution_count": 24,
   "id": "9eb81814-644f-442a-b094-84c428f38376",
   "metadata": {},
   "outputs": [],
   "source": [
    "def add3(a = 19, b = 5, c = 6):\n",
    "    res = a+ b + c\n",
    "    print(res)"
   ]
  },
  {
   "cell_type": "code",
   "execution_count": 25,
   "id": "58a85cea-7273-43de-91e0-b5a2094f8590",
   "metadata": {},
   "outputs": [
    {
     "name": "stdout",
     "output_type": "stream",
     "text": [
      "30\n"
     ]
    }
   ],
   "source": [
    "add3()"
   ]
  },
  {
   "cell_type": "code",
   "execution_count": 26,
   "id": "3c31217f-9107-4015-8dc3-91eb70ca61e7",
   "metadata": {},
   "outputs": [
    {
     "name": "stdout",
     "output_type": "stream",
     "text": [
      "21\n"
     ]
    }
   ],
   "source": [
    "add3(10) # take value for a"
   ]
  },
  {
   "cell_type": "code",
   "execution_count": 27,
   "id": "708fca27-5247-48d9-b6a7-a55aeea1d23b",
   "metadata": {},
   "outputs": [
    {
     "name": "stdout",
     "output_type": "stream",
     "text": [
      "26\n"
     ]
    }
   ],
   "source": [
    "add3(10,10)   # take value for a and b"
   ]
  },
  {
   "cell_type": "code",
   "execution_count": 28,
   "id": "cd78d48d-d76c-4ef9-b3b8-b7d8dc442fbf",
   "metadata": {},
   "outputs": [
    {
     "name": "stdout",
     "output_type": "stream",
     "text": [
      "10\n"
     ]
    }
   ],
   "source": [
    "add3(a = 1 , c = 4) # direct change the values for the assigned variables"
   ]
  },
  {
   "cell_type": "code",
   "execution_count": 29,
   "id": "3a207571-8d8e-4fd8-8442-1f81b3cd9e4f",
   "metadata": {},
   "outputs": [],
   "source": [
    "def add3(b ,a = 19, c = 6):   # we dont want to take one variables value then we have to take it first place\n",
    "    res = a+ b + c\n",
    "    print(res)"
   ]
  },
  {
   "cell_type": "code",
   "execution_count": 30,
   "id": "cf6ab800-e14d-4a0e-b5ba-9706d3204c4c",
   "metadata": {},
   "outputs": [
    {
     "name": "stdout",
     "output_type": "stream",
     "text": [
      "35\n"
     ]
    }
   ],
   "source": [
    "add3(10)"
   ]
  },
  {
   "cell_type": "code",
   "execution_count": 31,
   "id": "12860f96-9f2c-43e0-8393-116b7c173390",
   "metadata": {},
   "outputs": [],
   "source": [
    "def in1(*a):          # take any number of argument. infinite number.\n",
    "    print(*a)"
   ]
  },
  {
   "cell_type": "code",
   "execution_count": 32,
   "id": "8372a6ca-a78d-41a2-be22-265bcd2ab04c",
   "metadata": {},
   "outputs": [
    {
     "name": "stdout",
     "output_type": "stream",
     "text": [
      "1 2 3 4 5 6 7 8 9 0\n"
     ]
    }
   ],
   "source": [
    "in1(1,2,3,4,5,6,7,8,9,0)"
   ]
  },
  {
   "cell_type": "code",
   "execution_count": 33,
   "id": "296517a6-0f1a-47b7-88e5-8a2a070547fb",
   "metadata": {},
   "outputs": [],
   "source": [
    "def in1(*a):     # take any number of argument. infinite number.\n",
    "    for i in a:  # instade if 'a' we can pass 'args' also\n",
    "            print(i)"
   ]
  },
  {
   "cell_type": "code",
   "execution_count": 34,
   "id": "26c0f164-4946-4966-938c-7b2c30bd06fb",
   "metadata": {},
   "outputs": [
    {
     "name": "stdout",
     "output_type": "stream",
     "text": [
      "1\n",
      "2\n",
      "3\n"
     ]
    }
   ],
   "source": [
    "in1(1,2,3)"
   ]
  },
  {
   "cell_type": "markdown",
   "id": "7732fcce-a44a-463f-91d1-23637e4858ec",
   "metadata": {},
   "source": [
    "### LAMBDA FUNCTION"
   ]
  },
  {
   "cell_type": "code",
   "execution_count": 35,
   "id": "7f1eb732-7e8a-476e-8454-4e9fe65f1190",
   "metadata": {},
   "outputs": [],
   "source": [
    "square = lambda x : x * x"
   ]
  },
  {
   "cell_type": "code",
   "execution_count": 36,
   "id": "21c389e7-8eb1-4483-ab39-1f964e5f47dd",
   "metadata": {},
   "outputs": [
    {
     "data": {
      "text/plain": [
       "25"
      ]
     },
     "execution_count": 36,
     "metadata": {},
     "output_type": "execute_result"
    }
   ],
   "source": [
    "square(5)"
   ]
  },
  {
   "cell_type": "code",
   "execution_count": 37,
   "id": "477cbc3d-d623-49d0-a9e9-8ab5362f2d4c",
   "metadata": {},
   "outputs": [],
   "source": [
    "# create a lambda function for addition of two numbers.\n",
    "add = lambda x , y : x + y"
   ]
  },
  {
   "cell_type": "code",
   "execution_count": 38,
   "id": "c6c75fb7-ab92-4523-9944-3f833f4aafac",
   "metadata": {},
   "outputs": [
    {
     "data": {
      "text/plain": [
       "13"
      ]
     },
     "execution_count": 38,
     "metadata": {},
     "output_type": "execute_result"
    }
   ],
   "source": [
    "add(10 , 3)"
   ]
  },
  {
   "cell_type": "markdown",
   "id": "2c0392df-faee-4f2c-a544-10260c311643",
   "metadata": {},
   "source": [
    "### filter"
   ]
  },
  {
   "cell_type": "code",
   "execution_count": 39,
   "id": "985c0487-f49e-45fe-a2dc-f7c642845e10",
   "metadata": {},
   "outputs": [],
   "source": [
    "num = [23, 45, 76, 13, 57, 21, 43]\n"
   ]
  },
  {
   "cell_type": "code",
   "execution_count": 40,
   "id": "41410078-d3e7-43c2-9622-2e29f556e19e",
   "metadata": {},
   "outputs": [],
   "source": [
    "new = filter(lambda x: x > 40, num)"
   ]
  },
  {
   "cell_type": "code",
   "execution_count": 41,
   "id": "48b883a9-4e12-458f-9658-54f2fccb0155",
   "metadata": {},
   "outputs": [
    {
     "data": {
      "text/plain": [
       "[45, 76, 57, 43]"
      ]
     },
     "execution_count": 41,
     "metadata": {},
     "output_type": "execute_result"
    }
   ],
   "source": [
    "list(new)"
   ]
  },
  {
   "cell_type": "markdown",
   "id": "cdceeb31-3b6f-424b-b118-3e1dad45e071",
   "metadata": {},
   "source": [
    "### mapping"
   ]
  },
  {
   "cell_type": "code",
   "execution_count": 42,
   "id": "2302e477-3819-4e18-9a37-4243e7f29554",
   "metadata": {},
   "outputs": [],
   "source": [
    "new = map(lambda x: x/2, num)"
   ]
  },
  {
   "cell_type": "code",
   "execution_count": 43,
   "id": "fb928f20-3ebd-4d21-873b-63c7e128397c",
   "metadata": {},
   "outputs": [
    {
     "data": {
      "text/plain": [
       "[11.5, 22.5, 38.0, 6.5, 28.5, 10.5, 21.5]"
      ]
     },
     "execution_count": 43,
     "metadata": {},
     "output_type": "execute_result"
    }
   ],
   "source": [
    "list(new)"
   ]
  },
  {
   "cell_type": "code",
   "execution_count": 44,
   "id": "f104f5c4-8aa7-406d-a0b1-e117e15e2eda",
   "metadata": {},
   "outputs": [],
   "source": [
    "new = map(lambda x: x > 40, num)"
   ]
  },
  {
   "cell_type": "code",
   "execution_count": 45,
   "id": "0dad4489-ac66-472b-b5c3-9ec4e3f934f5",
   "metadata": {},
   "outputs": [
    {
     "data": {
      "text/plain": [
       "[False, True, True, False, True, False, True]"
      ]
     },
     "execution_count": 45,
     "metadata": {},
     "output_type": "execute_result"
    }
   ],
   "source": [
    "list(new)"
   ]
  },
  {
   "cell_type": "markdown",
   "id": "a644a51c-20e4-4a40-b1c8-cd7cb2fc03dd",
   "metadata": {},
   "source": [
    "### MODULES"
   ]
  },
  {
   "cell_type": "code",
   "execution_count": 46,
   "id": "21fb421d-5701-47a2-b860-bc1d97ad377c",
   "metadata": {},
   "outputs": [],
   "source": [
    "import math"
   ]
  },
  {
   "cell_type": "code",
   "execution_count": 47,
   "id": "c99ae34b-f065-4916-b348-1c212ec4426e",
   "metadata": {},
   "outputs": [
    {
     "name": "stdout",
     "output_type": "stream",
     "text": [
      "Help on built-in module math:\n",
      "\n",
      "NAME\n",
      "    math\n",
      "\n",
      "DESCRIPTION\n",
      "    This module provides access to the mathematical functions\n",
      "    defined by the C standard.\n",
      "\n",
      "FUNCTIONS\n",
      "    acos(x, /)\n",
      "        Return the arc cosine (measured in radians) of x.\n",
      "        \n",
      "        The result is between 0 and pi.\n",
      "    \n",
      "    acosh(x, /)\n",
      "        Return the inverse hyperbolic cosine of x.\n",
      "    \n",
      "    asin(x, /)\n",
      "        Return the arc sine (measured in radians) of x.\n",
      "        \n",
      "        The result is between -pi/2 and pi/2.\n",
      "    \n",
      "    asinh(x, /)\n",
      "        Return the inverse hyperbolic sine of x.\n",
      "    \n",
      "    atan(x, /)\n",
      "        Return the arc tangent (measured in radians) of x.\n",
      "        \n",
      "        The result is between -pi/2 and pi/2.\n",
      "    \n",
      "    atan2(y, x, /)\n",
      "        Return the arc tangent (measured in radians) of y/x.\n",
      "        \n",
      "        Unlike atan(y/x), the signs of both x and y are considered.\n",
      "    \n",
      "    atanh(x, /)\n",
      "        Return the inverse hyperbolic tangent of x.\n",
      "    \n",
      "    cbrt(x, /)\n",
      "        Return the cube root of x.\n",
      "    \n",
      "    ceil(x, /)\n",
      "        Return the ceiling of x as an Integral.\n",
      "        \n",
      "        This is the smallest integer >= x.\n",
      "    \n",
      "    comb(n, k, /)\n",
      "        Number of ways to choose k items from n items without repetition and without order.\n",
      "        \n",
      "        Evaluates to n! / (k! * (n - k)!) when k <= n and evaluates\n",
      "        to zero when k > n.\n",
      "        \n",
      "        Also called the binomial coefficient because it is equivalent\n",
      "        to the coefficient of k-th term in polynomial expansion of the\n",
      "        expression (1 + x)**n.\n",
      "        \n",
      "        Raises TypeError if either of the arguments are not integers.\n",
      "        Raises ValueError if either of the arguments are negative.\n",
      "    \n",
      "    copysign(x, y, /)\n",
      "        Return a float with the magnitude (absolute value) of x but the sign of y.\n",
      "        \n",
      "        On platforms that support signed zeros, copysign(1.0, -0.0)\n",
      "        returns -1.0.\n",
      "    \n",
      "    cos(x, /)\n",
      "        Return the cosine of x (measured in radians).\n",
      "    \n",
      "    cosh(x, /)\n",
      "        Return the hyperbolic cosine of x.\n",
      "    \n",
      "    degrees(x, /)\n",
      "        Convert angle x from radians to degrees.\n",
      "    \n",
      "    dist(p, q, /)\n",
      "        Return the Euclidean distance between two points p and q.\n",
      "        \n",
      "        The points should be specified as sequences (or iterables) of\n",
      "        coordinates.  Both inputs must have the same dimension.\n",
      "        \n",
      "        Roughly equivalent to:\n",
      "            sqrt(sum((px - qx) ** 2.0 for px, qx in zip(p, q)))\n",
      "    \n",
      "    erf(x, /)\n",
      "        Error function at x.\n",
      "    \n",
      "    erfc(x, /)\n",
      "        Complementary error function at x.\n",
      "    \n",
      "    exp(x, /)\n",
      "        Return e raised to the power of x.\n",
      "    \n",
      "    exp2(x, /)\n",
      "        Return 2 raised to the power of x.\n",
      "    \n",
      "    expm1(x, /)\n",
      "        Return exp(x)-1.\n",
      "        \n",
      "        This function avoids the loss of precision involved in the direct evaluation of exp(x)-1 for small x.\n",
      "    \n",
      "    fabs(x, /)\n",
      "        Return the absolute value of the float x.\n",
      "    \n",
      "    factorial(n, /)\n",
      "        Find n!.\n",
      "        \n",
      "        Raise a ValueError if x is negative or non-integral.\n",
      "    \n",
      "    floor(x, /)\n",
      "        Return the floor of x as an Integral.\n",
      "        \n",
      "        This is the largest integer <= x.\n",
      "    \n",
      "    fmod(x, y, /)\n",
      "        Return fmod(x, y), according to platform C.\n",
      "        \n",
      "        x % y may differ.\n",
      "    \n",
      "    frexp(x, /)\n",
      "        Return the mantissa and exponent of x, as pair (m, e).\n",
      "        \n",
      "        m is a float and e is an int, such that x = m * 2.**e.\n",
      "        If x is 0, m and e are both 0.  Else 0.5 <= abs(m) < 1.0.\n",
      "    \n",
      "    fsum(seq, /)\n",
      "        Return an accurate floating point sum of values in the iterable seq.\n",
      "        \n",
      "        Assumes IEEE-754 floating point arithmetic.\n",
      "    \n",
      "    gamma(x, /)\n",
      "        Gamma function at x.\n",
      "    \n",
      "    gcd(*integers)\n",
      "        Greatest Common Divisor.\n",
      "    \n",
      "    hypot(...)\n",
      "        hypot(*coordinates) -> value\n",
      "        \n",
      "        Multidimensional Euclidean distance from the origin to a point.\n",
      "        \n",
      "        Roughly equivalent to:\n",
      "            sqrt(sum(x**2 for x in coordinates))\n",
      "        \n",
      "        For a two dimensional point (x, y), gives the hypotenuse\n",
      "        using the Pythagorean theorem:  sqrt(x*x + y*y).\n",
      "        \n",
      "        For example, the hypotenuse of a 3/4/5 right triangle is:\n",
      "        \n",
      "            >>> hypot(3.0, 4.0)\n",
      "            5.0\n",
      "    \n",
      "    isclose(a, b, *, rel_tol=1e-09, abs_tol=0.0)\n",
      "        Determine whether two floating point numbers are close in value.\n",
      "        \n",
      "          rel_tol\n",
      "            maximum difference for being considered \"close\", relative to the\n",
      "            magnitude of the input values\n",
      "          abs_tol\n",
      "            maximum difference for being considered \"close\", regardless of the\n",
      "            magnitude of the input values\n",
      "        \n",
      "        Return True if a is close in value to b, and False otherwise.\n",
      "        \n",
      "        For the values to be considered close, the difference between them\n",
      "        must be smaller than at least one of the tolerances.\n",
      "        \n",
      "        -inf, inf and NaN behave similarly to the IEEE 754 Standard.  That\n",
      "        is, NaN is not close to anything, even itself.  inf and -inf are\n",
      "        only close to themselves.\n",
      "    \n",
      "    isfinite(x, /)\n",
      "        Return True if x is neither an infinity nor a NaN, and False otherwise.\n",
      "    \n",
      "    isinf(x, /)\n",
      "        Return True if x is a positive or negative infinity, and False otherwise.\n",
      "    \n",
      "    isnan(x, /)\n",
      "        Return True if x is a NaN (not a number), and False otherwise.\n",
      "    \n",
      "    isqrt(n, /)\n",
      "        Return the integer part of the square root of the input.\n",
      "    \n",
      "    lcm(*integers)\n",
      "        Least Common Multiple.\n",
      "    \n",
      "    ldexp(x, i, /)\n",
      "        Return x * (2**i).\n",
      "        \n",
      "        This is essentially the inverse of frexp().\n",
      "    \n",
      "    lgamma(x, /)\n",
      "        Natural logarithm of absolute value of Gamma function at x.\n",
      "    \n",
      "    log(...)\n",
      "        log(x, [base=math.e])\n",
      "        Return the logarithm of x to the given base.\n",
      "        \n",
      "        If the base not specified, returns the natural logarithm (base e) of x.\n",
      "    \n",
      "    log10(x, /)\n",
      "        Return the base 10 logarithm of x.\n",
      "    \n",
      "    log1p(x, /)\n",
      "        Return the natural logarithm of 1+x (base e).\n",
      "        \n",
      "        The result is computed in a way which is accurate for x near zero.\n",
      "    \n",
      "    log2(x, /)\n",
      "        Return the base 2 logarithm of x.\n",
      "    \n",
      "    modf(x, /)\n",
      "        Return the fractional and integer parts of x.\n",
      "        \n",
      "        Both results carry the sign of x and are floats.\n",
      "    \n",
      "    nextafter(x, y, /)\n",
      "        Return the next floating-point value after x towards y.\n",
      "    \n",
      "    perm(n, k=None, /)\n",
      "        Number of ways to choose k items from n items without repetition and with order.\n",
      "        \n",
      "        Evaluates to n! / (n - k)! when k <= n and evaluates\n",
      "        to zero when k > n.\n",
      "        \n",
      "        If k is not specified or is None, then k defaults to n\n",
      "        and the function returns n!.\n",
      "        \n",
      "        Raises TypeError if either of the arguments are not integers.\n",
      "        Raises ValueError if either of the arguments are negative.\n",
      "    \n",
      "    pow(x, y, /)\n",
      "        Return x**y (x to the power of y).\n",
      "    \n",
      "    prod(iterable, /, *, start=1)\n",
      "        Calculate the product of all the elements in the input iterable.\n",
      "        \n",
      "        The default start value for the product is 1.\n",
      "        \n",
      "        When the iterable is empty, return the start value.  This function is\n",
      "        intended specifically for use with numeric values and may reject\n",
      "        non-numeric types.\n",
      "    \n",
      "    radians(x, /)\n",
      "        Convert angle x from degrees to radians.\n",
      "    \n",
      "    remainder(x, y, /)\n",
      "        Difference between x and the closest integer multiple of y.\n",
      "        \n",
      "        Return x - n*y where n*y is the closest integer multiple of y.\n",
      "        In the case where x is exactly halfway between two multiples of\n",
      "        y, the nearest even value of n is used. The result is always exact.\n",
      "    \n",
      "    sin(x, /)\n",
      "        Return the sine of x (measured in radians).\n",
      "    \n",
      "    sinh(x, /)\n",
      "        Return the hyperbolic sine of x.\n",
      "    \n",
      "    sqrt(x, /)\n",
      "        Return the square root of x.\n",
      "    \n",
      "    tan(x, /)\n",
      "        Return the tangent of x (measured in radians).\n",
      "    \n",
      "    tanh(x, /)\n",
      "        Return the hyperbolic tangent of x.\n",
      "    \n",
      "    trunc(x, /)\n",
      "        Truncates the Real x to the nearest Integral toward 0.\n",
      "        \n",
      "        Uses the __trunc__ magic method.\n",
      "    \n",
      "    ulp(x, /)\n",
      "        Return the value of the least significant bit of the float x.\n",
      "\n",
      "DATA\n",
      "    e = 2.718281828459045\n",
      "    inf = inf\n",
      "    nan = nan\n",
      "    pi = 3.141592653589793\n",
      "    tau = 6.283185307179586\n",
      "\n",
      "FILE\n",
      "    (built-in)\n",
      "\n",
      "\n"
     ]
    }
   ],
   "source": [
    "help(math)"
   ]
  },
  {
   "cell_type": "code",
   "execution_count": 48,
   "id": "7baa6a00-dd83-4f48-bb03-293dc65ba4aa",
   "metadata": {},
   "outputs": [
    {
     "data": {
      "text/plain": [
       "10.0"
      ]
     },
     "execution_count": 48,
     "metadata": {},
     "output_type": "execute_result"
    }
   ],
   "source": [
    "math.sqrt(100)"
   ]
  },
  {
   "cell_type": "code",
   "execution_count": 49,
   "id": "cff7c44d-e9fa-41f9-8b82-000465a0192a",
   "metadata": {},
   "outputs": [
    {
     "data": {
      "text/plain": [
       "-0.9880316240928618"
      ]
     },
     "execution_count": 49,
     "metadata": {},
     "output_type": "execute_result"
    }
   ],
   "source": [
    "math.sin(30)"
   ]
  },
  {
   "cell_type": "code",
   "execution_count": 50,
   "id": "cae51694-9dac-4784-bb96-c8b02910d0c1",
   "metadata": {},
   "outputs": [
    {
     "data": {
      "text/plain": [
       "2.302585092994046"
      ]
     },
     "execution_count": 50,
     "metadata": {},
     "output_type": "execute_result"
    }
   ],
   "source": [
    "math.log(10)"
   ]
  },
  {
   "cell_type": "code",
   "execution_count": 51,
   "id": "800c53e2-13e1-43fb-bf7a-e972888f39bf",
   "metadata": {},
   "outputs": [
    {
     "name": "stdin",
     "output_type": "stream",
     "text": [
      "enter radius: 1\n"
     ]
    },
    {
     "name": "stdout",
     "output_type": "stream",
     "text": [
      "area is: 3.141592653589793\n"
     ]
    }
   ],
   "source": [
    "# read a redius and find the area of circlr\n",
    "\n",
    "r = int(input('enter radius:'))\n",
    "\n",
    "\n",
    "print('area is:',  math.pi * r * r)"
   ]
  },
  {
   "cell_type": "code",
   "execution_count": 52,
   "id": "2c5716c2-adca-40e8-8761-6ad6cb418a53",
   "metadata": {},
   "outputs": [],
   "source": [
    "import time"
   ]
  },
  {
   "cell_type": "code",
   "execution_count": 53,
   "id": "23e8168d-bb37-410d-8809-bfb05dbb04bc",
   "metadata": {},
   "outputs": [
    {
     "data": {
      "text/plain": [
       "'Tue Jun 11 20:35:30 2024'"
      ]
     },
     "execution_count": 53,
     "metadata": {},
     "output_type": "execute_result"
    }
   ],
   "source": [
    "time.asctime()"
   ]
  },
  {
   "cell_type": "code",
   "execution_count": 54,
   "id": "99ae6525-d968-48b7-937b-64e1cec82872",
   "metadata": {},
   "outputs": [
    {
     "name": "stdout",
     "output_type": "stream",
     "text": [
      "hello\n",
      "ok\n"
     ]
    }
   ],
   "source": [
    "print('hello')\n",
    "time.sleep(1)\n",
    "print('ok')"
   ]
  },
  {
   "cell_type": "code",
   "execution_count": 55,
   "id": "3a2e6ee2-93a8-4ac2-bf77-4681e15c4736",
   "metadata": {},
   "outputs": [],
   "source": [
    "# giving an alias\n",
    "\n",
    "\n",
    "import math as m"
   ]
  },
  {
   "cell_type": "code",
   "execution_count": 56,
   "id": "11b87741-9d56-48e4-9e70-dd9e9f48129b",
   "metadata": {},
   "outputs": [
    {
     "data": {
      "text/plain": [
       "2.23606797749979"
      ]
     },
     "execution_count": 56,
     "metadata": {},
     "output_type": "execute_result"
    }
   ],
   "source": [
    "m.sqrt(5)"
   ]
  },
  {
   "cell_type": "code",
   "execution_count": 57,
   "id": "0e076153-fb0c-47cf-9656-bb0a342b0dab",
   "metadata": {},
   "outputs": [],
   "source": [
    "#selective imports\n",
    "\n",
    "\n",
    "from math import sqrt ,sin, pi"
   ]
  },
  {
   "cell_type": "code",
   "execution_count": 58,
   "id": "43e721e9-f06f-4a97-a40a-d92478f45c3c",
   "metadata": {},
   "outputs": [
    {
     "data": {
      "text/plain": [
       "2.23606797749979"
      ]
     },
     "execution_count": 58,
     "metadata": {},
     "output_type": "execute_result"
    }
   ],
   "source": [
    "sqrt(5)"
   ]
  },
  {
   "cell_type": "code",
   "execution_count": 59,
   "id": "d1ae5c10-d1dd-4965-b077-c28148c4fcf9",
   "metadata": {},
   "outputs": [
    {
     "data": {
      "text/plain": [
       "3.141592653589793"
      ]
     },
     "execution_count": 59,
     "metadata": {},
     "output_type": "execute_result"
    }
   ],
   "source": [
    "pi"
   ]
  },
  {
   "cell_type": "code",
   "execution_count": 61,
   "id": "1d399ca6-d8d3-4969-9975-1481c58ea7ce",
   "metadata": {},
   "outputs": [
    {
     "data": {
      "text/plain": [
       "-0.7568024953079282"
      ]
     },
     "execution_count": 61,
     "metadata": {},
     "output_type": "execute_result"
    }
   ],
   "source": [
    "sin(4)"
   ]
  },
  {
   "cell_type": "code",
   "execution_count": null,
   "id": "5bcb9300-215b-408e-850e-6c604d3b4504",
   "metadata": {},
   "outputs": [],
   "source": []
  }
 ],
 "metadata": {
  "kernelspec": {
   "display_name": "Python 3 (ipykernel)",
   "language": "python",
   "name": "python3"
  },
  "language_info": {
   "codemirror_mode": {
    "name": "ipython",
    "version": 3
   },
   "file_extension": ".py",
   "mimetype": "text/x-python",
   "name": "python",
   "nbconvert_exporter": "python",
   "pygments_lexer": "ipython3",
   "version": "3.11.7"
  }
 },
 "nbformat": 4,
 "nbformat_minor": 5
}
