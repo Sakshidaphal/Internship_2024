{
 "cells": [
  {
   "cell_type": "markdown",
   "id": "ab3f23dd-8ccb-48e1-b90b-f3fc70fc8806",
   "metadata": {},
   "source": [
    "### LOOPS"
   ]
  },
  {
   "cell_type": "code",
   "execution_count": 3,
   "id": "8ac06080-6f2d-4f93-b4f2-6cd06b71bfe1",
   "metadata": {},
   "outputs": [
    {
     "name": "stdout",
     "output_type": "stream",
     "text": [
      "sakshi\n",
      "sakshi\n",
      "sakshi\n",
      "sakshi\n",
      "sakshi\n",
      "sakshi\n"
     ]
    }
   ],
   "source": [
    " count = 1\n",
    "while count <= 6:\n",
    "    print('sakshi')\n",
    "    count = count + 1 "
   ]
  },
  {
   "cell_type": "code",
   "execution_count": 4,
   "id": "ec7d86b8-45a4-4ac8-95d7-930663ddb5c7",
   "metadata": {},
   "outputs": [
    {
     "name": "stdout",
     "output_type": "stream",
     "text": [
      "5  6  7  8  9  10  11  12  13  14  15  done\n"
     ]
    }
   ],
   "source": [
    "# print number from 5 to 15\n",
    "num = 5\n",
    "while num <= 15:\n",
    "    print(num , end='  ')\n",
    "    num = num + 1\n",
    "\n",
    "print(\"done\")"
   ]
  },
  {
   "cell_type": "code",
   "execution_count": 5,
   "id": "6b084806-9ff6-41fb-8ceb-608bb143af68",
   "metadata": {},
   "outputs": [
    {
     "name": "stdout",
     "output_type": "stream",
     "text": [
      "16\n"
     ]
    }
   ],
   "source": [
    "print(num)"
   ]
  },
  {
   "cell_type": "code",
   "execution_count": 6,
   "id": "7160940a-7137-4aca-8725-ac29b493a2b7",
   "metadata": {},
   "outputs": [
    {
     "name": "stdout",
     "output_type": "stream",
     "text": [
      "result is 55\n"
     ]
    }
   ],
   "source": [
    "# print the addition of number from 1 to 10\n",
    "count = 1\n",
    "add = 0\n",
    "while count <= 10:\n",
    "    add = add + count\n",
    "    count += 1\n",
    "print ( 'result is',add)\n",
    "   "
   ]
  },
  {
   "cell_type": "code",
   "execution_count": 7,
   "id": "7d02159b-54a8-48df-adcc-bfe192e72bd4",
   "metadata": {},
   "outputs": [
    {
     "name": "stdout",
     "output_type": "stream",
     "text": [
      "11\n"
     ]
    }
   ],
   "source": [
    "print(count)"
   ]
  },
  {
   "cell_type": "code",
   "execution_count": 8,
   "id": "6d9ce807-84b7-4ccc-9b19-7623c01c411e",
   "metadata": {},
   "outputs": [
    {
     "name": "stdout",
     "output_type": "stream",
     "text": [
      "result is 100\n"
     ]
    }
   ],
   "source": [
    "# print the addition of all odd numbers from 1 to 20\n",
    "count = 1\n",
    "add = 0\n",
    "while count <= 20:\n",
    "    add = add + count\n",
    "    count += 2\n",
    "    \n",
    "print ( 'result is',add)"
   ]
  },
  {
   "cell_type": "code",
   "execution_count": 9,
   "id": "32474834-35b0-4b4a-9213-129e108b7e05",
   "metadata": {},
   "outputs": [
    {
     "name": "stdout",
     "output_type": "stream",
     "text": [
      "factorial is 120\n"
     ]
    }
   ],
   "source": [
    "# write a program for factorial\n",
    "num = 1\n",
    "fact = 1\n",
    "while num <= 5 :\n",
    "    fact = fact * num\n",
    "    num = num + 1\n",
    "    \n",
    "print ('factorial is',fact)\n"
   ]
  },
  {
   "cell_type": "code",
   "execution_count": 10,
   "id": "cdb0b334-bf0e-4154-bccd-54360347dac0",
   "metadata": {},
   "outputs": [
    {
     "name": "stdout",
     "output_type": "stream",
     "text": [
      "loop ended\n",
      "factorial is 120\n"
     ]
    }
   ],
   "source": [
    "# else\n",
    "# write a program for factorial\n",
    "num = 1\n",
    "fact = 1\n",
    "while num <= 5:\n",
    "    fact = fact * num\n",
    "    num = num + 1\n",
    "else:\n",
    "    print('loop ended')\n",
    "    \n",
    "print ('factorial is',fact)"
   ]
  },
  {
   "cell_type": "code",
   "execution_count": 12,
   "id": "0f8a5edb-13dc-4b7b-9738-e080b814e099",
   "metadata": {},
   "outputs": [
    {
     "name": "stdin",
     "output_type": "stream",
     "text": [
      "enter the number 1234\n"
     ]
    },
    {
     "name": "stdout",
     "output_type": "stream",
     "text": [
      "addition of digit is: 10\n"
     ]
    }
   ],
   "source": [
    "# print the sum of digit in a number\n",
    "\n",
    "num = int(input('enter the number'))\n",
    "sum = 0\n",
    "while num > 0:\n",
    "   digit = num % 10\n",
    "   sum += digit\n",
    "   num = num // 10\n",
    "\n",
    "print('addition of digit is:',sum)"
   ]
  },
  {
   "cell_type": "markdown",
   "id": "f99c8ef7-22ac-447d-bccd-1928ee0769a5",
   "metadata": {},
   "source": [
    "### FOR LOOP"
   ]
  },
  {
   "cell_type": "code",
   "execution_count": 13,
   "id": "a0d5dd6f-4322-4f2a-8405-a352c7fc2450",
   "metadata": {},
   "outputs": [
    {
     "name": "stdout",
     "output_type": "stream",
     "text": [
      "12  34  45  24  sakshi  "
     ]
    }
   ],
   "source": [
    "for n in 12 , 34 , 45 , 24 , 'sakshi':\n",
    "    print(n , end = '  ')"
   ]
  },
  {
   "cell_type": "code",
   "execution_count": 14,
   "id": "60afa657-bbc4-45d3-8b40-5198217fdb4c",
   "metadata": {},
   "outputs": [
    {
     "name": "stdout",
     "output_type": "stream",
     "text": [
      "6.0  17.0  22.5  12.0  "
     ]
    }
   ],
   "source": [
    "#print the half value of numbers\n",
    "for n in 12 , 34 , 45 , 24 , :\n",
    "    n = n/2\n",
    "    print(n , end = '  ')"
   ]
  },
  {
   "cell_type": "markdown",
   "id": "5b87664f-80f3-463d-96e9-f6315889a05f",
   "metadata": {},
   "source": [
    "### RANGE FUNCTION"
   ]
  },
  {
   "cell_type": "code",
   "execution_count": 15,
   "id": "e7ee603d-5401-4feb-b74b-0e3e8093ca8a",
   "metadata": {},
   "outputs": [
    {
     "data": {
      "text/plain": [
       "[0, 1, 2, 3, 4]"
      ]
     },
     "execution_count": 15,
     "metadata": {},
     "output_type": "execute_result"
    }
   ],
   "source": [
    "list(range(5))"
   ]
  },
  {
   "cell_type": "code",
   "execution_count": 16,
   "id": "f8d8b4bf-d8e0-4df6-a5eb-ec849076d687",
   "metadata": {},
   "outputs": [
    {
     "data": {
      "text/plain": [
       "[5, 6, 7, 8, 9, 10, 11, 12, 13, 14, 15, 16, 17, 18, 19]"
      ]
     },
     "execution_count": 16,
     "metadata": {},
     "output_type": "execute_result"
    }
   ],
   "source": [
    "list(range(5 , 20))"
   ]
  },
  {
   "cell_type": "code",
   "execution_count": 17,
   "id": "68cd5b8f-c099-4146-92fe-66d13bcca765",
   "metadata": {},
   "outputs": [
    {
     "data": {
      "text/plain": [
       "[5, 7, 9, 11, 13, 15, 17, 19]"
      ]
     },
     "execution_count": 17,
     "metadata": {},
     "output_type": "execute_result"
    }
   ],
   "source": [
    "list(range(5 , 20 , 2))       #(START , END + 1 , STEP)"
   ]
  },
  {
   "cell_type": "code",
   "execution_count": 18,
   "id": "ecd4c032-b199-492f-b59b-99ae68c2e2fc",
   "metadata": {},
   "outputs": [
    {
     "name": "stdout",
     "output_type": "stream",
     "text": [
      "1  2  3  4  5  6  7  8  9  10  "
     ]
    }
   ],
   "source": [
    "for n in range(1 , 11):\n",
    "   print (n, end = '  ')"
   ]
  },
  {
   "cell_type": "code",
   "execution_count": 19,
   "id": "ede9bd19-9659-4980-b336-d3cffd1ece96",
   "metadata": {},
   "outputs": [
    {
     "name": "stdout",
     "output_type": "stream",
     "text": [
      "1  3  5  7  9  11  13  15  17  19  "
     ]
    }
   ],
   "source": [
    "#print odd no\n",
    "for n in range(1 , 21 , 2):\n",
    "   print (n, end = '  ')"
   ]
  },
  {
   "cell_type": "code",
   "execution_count": 20,
   "id": "ba17c5b7-fe25-4e68-b615-7bc1307df858",
   "metadata": {},
   "outputs": [
    {
     "name": "stdout",
     "output_type": "stream",
     "text": [
      "100\n"
     ]
    }
   ],
   "source": [
    "# addition of odd number from 1 to 20\n",
    "add = 0\n",
    "for n in range(1 , 21 , 2):\n",
    "    add = add + n\n",
    "\n",
    "print(add)"
   ]
  },
  {
   "cell_type": "code",
   "execution_count": 21,
   "id": "24be354e-4170-42cc-99cb-63c26617c5b2",
   "metadata": {},
   "outputs": [
    {
     "name": "stdout",
     "output_type": "stream",
     "text": [
      "sakshi  sakshi  sakshi  sakshi  sakshi  sakshi  sakshi  sakshi  sakshi  sakshi  "
     ]
    }
   ],
   "source": [
    "#print name 10 times using for loop\n",
    "for n in range (1 , 11):\n",
    "     print ('sakshi' , end = '  ')"
   ]
  },
  {
   "cell_type": "code",
   "execution_count": 24,
   "id": "031c5912-5c2a-4d24-ad4b-485af2ce26d1",
   "metadata": {},
   "outputs": [
    {
     "name": "stdout",
     "output_type": "stream",
     "text": [
      "s  a  k  s  h  i  "
     ]
    }
   ],
   "source": [
    "#print name 1 by 1 using for loop\n",
    "for n in 'sakshi':\n",
    "    print(n, end = '  ')"
   ]
  },
  {
   "cell_type": "code",
   "execution_count": 25,
   "id": "5ac2ff7a-119a-4469-a2dc-4828f88aadb4",
   "metadata": {},
   "outputs": [
    {
     "name": "stdout",
     "output_type": "stream",
     "text": [
      "sss  aaa  kkk  sss  hhh  iii  "
     ]
    }
   ],
   "source": [
    "#print name 1 by 1 but 3 times using for loop\n",
    "for n in 'sakshi':\n",
    "    print(n * 3 , end = '  ')"
   ]
  },
  {
   "cell_type": "code",
   "execution_count": 26,
   "id": "5c020393-7563-4ead-be8b-9215125c48d9",
   "metadata": {},
   "outputs": [
    {
     "name": "stdin",
     "output_type": "stream",
     "text": [
      "enter number 5\n"
     ]
    },
    {
     "name": "stdout",
     "output_type": "stream",
     "text": [
      "factorial is: 120\n"
     ]
    }
   ],
   "source": [
    "#find factorial of a number using for loop take user input\n",
    "num = int(input('enter number'))\n",
    "fact = 1\n",
    "for n in range(1 , num + 1):\n",
    "    fact = fact * n\n",
    "    \n",
    "print('factorial is:',fact)"
   ]
  },
  {
   "cell_type": "markdown",
   "id": "e6f4be1e-c17c-4d16-a789-08270616829b",
   "metadata": {},
   "source": [
    "### BREAK STATEMENT"
   ]
  },
  {
   "cell_type": "code",
   "execution_count": 27,
   "id": "b052c0ca-ce0f-4394-a925-fece37b9a91c",
   "metadata": {},
   "outputs": [
    {
     "name": "stdout",
     "output_type": "stream",
     "text": [
      "1  2  3  4  "
     ]
    }
   ],
   "source": [
    "for n in range(1, 10):\n",
    "    if n == 5:\n",
    "        break\n",
    "    print(n, end = '  ')"
   ]
  },
  {
   "cell_type": "code",
   "execution_count": 28,
   "id": "7212dbeb-c62e-4072-9e46-6a0390adb18f",
   "metadata": {},
   "outputs": [
    {
     "name": "stdout",
     "output_type": "stream",
     "text": [
      "1  2  3  4  6  7  8  9  "
     ]
    }
   ],
   "source": [
    "for n in range(1, 10):\n",
    "    if n == 5:\n",
    "        continue\n",
    "    print(n, end = '  ')"
   ]
  },
  {
   "cell_type": "code",
   "execution_count": 29,
   "id": "70aa3ae2-e0e4-498a-8ba3-a4a02eb82af2",
   "metadata": {},
   "outputs": [
    {
     "name": "stdout",
     "output_type": "stream",
     "text": [
      "1  3  5  7  9  "
     ]
    }
   ],
   "source": [
    "# print odd number using continue statement\n",
    "for n in range(1, 10):\n",
    "    if n % 2 == 0:\n",
    "        continue\n",
    "    print(n, end = '  ')"
   ]
  },
  {
   "cell_type": "markdown",
   "id": "4991c284-fbff-459c-96b3-38cd9d0df37c",
   "metadata": {},
   "source": [
    "### PASS"
   ]
  },
  {
   "cell_type": "code",
   "execution_count": 31,
   "id": "fa5595a8-f95d-4c98-89f4-cfe178df734a",
   "metadata": {},
   "outputs": [],
   "source": [
    "num = 5 #it is doing nothing\n",
    "if num > 1:\n",
    "    pass"
   ]
  },
  {
   "cell_type": "code",
   "execution_count": 32,
   "id": "3b4a09be-b921-43a4-8829-fb0940987e0f",
   "metadata": {},
   "outputs": [
    {
     "name": "stdin",
     "output_type": "stream",
     "text": [
      "enter the no of rows 5\n"
     ]
    },
    {
     "name": "stdout",
     "output_type": "stream",
     "text": [
      "*  \n",
      "*  *  \n",
      "*  *  *  \n",
      "*  *  *  *  \n",
      "*  *  *  *  *  \n"
     ]
    }
   ],
   "source": [
    "'''\n",
    "*\n",
    "**\n",
    "***\n",
    "''';\n",
    "row = int(input('enter the no of rows'))\n",
    "for i in range (1 , row +1 ):\n",
    "    for j in range(i):\n",
    "        print('*',end = '  ')\n",
    "    print()"
   ]
  },
  {
   "cell_type": "code",
   "execution_count": null,
   "id": "1613c04b-d501-4d8f-9a7b-2ac85d11a707",
   "metadata": {},
   "outputs": [],
   "source": []
  }
 ],
 "metadata": {
  "kernelspec": {
   "display_name": "Python 3 (ipykernel)",
   "language": "python",
   "name": "python3"
  },
  "language_info": {
   "codemirror_mode": {
    "name": "ipython",
    "version": 3
   },
   "file_extension": ".py",
   "mimetype": "text/x-python",
   "name": "python",
   "nbconvert_exporter": "python",
   "pygments_lexer": "ipython3",
   "version": "3.11.7"
  }
 },
 "nbformat": 4,
 "nbformat_minor": 5
}
