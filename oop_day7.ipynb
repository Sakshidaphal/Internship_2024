{
 "cells": [
  {
   "cell_type": "code",
   "execution_count": 2,
   "id": "17da3972-ddfe-4fec-9ff1-925018aea0e5",
   "metadata": {},
   "outputs": [],
   "source": [
    "#create a class\n",
    "\n",
    "class Employee():\n",
    "    pass"
   ]
  },
  {
   "cell_type": "code",
   "execution_count": 3,
   "id": "42e14183-08aa-44df-a8e6-5ffa0705fcce",
   "metadata": {},
   "outputs": [],
   "source": [
    "# create object\n",
    "\n",
    "emp1 = Employee()\n",
    "emp2 = Employee()"
   ]
  },
  {
   "cell_type": "code",
   "execution_count": 6,
   "id": "78150925-16e8-4843-97cd-9b026967e9a0",
   "metadata": {},
   "outputs": [
    {
     "name": "stdout",
     "output_type": "stream",
     "text": [
      "<__main__.Employee object at 0x000001BF0B441650>\n",
      "<__main__.Employee object at 0x000001BF0B441B50>\n"
     ]
    }
   ],
   "source": [
    "#instance of a class\n",
    "\n",
    "print(emp1)\n",
    "print(emp2)"
   ]
  },
  {
   "cell_type": "code",
   "execution_count": 9,
   "id": "3fbde998-ee3f-4327-b0f3-492fd52e6a79",
   "metadata": {},
   "outputs": [],
   "source": [
    "# instance variables (put the attribute)\n",
    "\n",
    "emp1.first = 'sakshi'\n",
    "emp1.last = 'daphal'\n",
    "emp1.salary = 50000\n",
    "\n",
    "emp2.first = 'madhuri'\n",
    "emp2.last = 'limgude'\n",
    "emp2.salary = 70000\n"
   ]
  },
  {
   "cell_type": "code",
   "execution_count": 10,
   "id": "96f61104-4835-4393-b742-431e621c6b66",
   "metadata": {},
   "outputs": [
    {
     "name": "stdout",
     "output_type": "stream",
     "text": [
      "sakshi\n"
     ]
    }
   ],
   "source": [
    "#access the attributes\n",
    "\n",
    "print(emp1.first)"
   ]
  },
  {
   "cell_type": "code",
   "execution_count": 11,
   "id": "954f4065-d559-4674-b789-032b9d52463e",
   "metadata": {},
   "outputs": [
    {
     "name": "stdout",
     "output_type": "stream",
     "text": [
      "70000\n"
     ]
    }
   ],
   "source": [
    "print(emp2.salary)"
   ]
  },
  {
   "cell_type": "code",
   "execution_count": 35,
   "id": "c69b5105-a866-4f60-97f3-f6751cd9f3c4",
   "metadata": {},
   "outputs": [],
   "source": [
    "# constructor (self keyword doing the same work as this keyword)\n",
    "class Employee():\n",
    "    def __init__ (self,first,last,salary):\n",
    "        self.first = first\n",
    "        self.last = last\n",
    "        self.salary = salary\n",
    "        \n",
    "    def show(self):\n",
    "        print(self.first +' '+'ok')"
   ]
  },
  {
   "cell_type": "code",
   "execution_count": 36,
   "id": "57ef8d1d-4753-4b00-8c24-0690db656de6",
   "metadata": {},
   "outputs": [],
   "source": [
    "emp1=Employee('raj','sharma',45000)"
   ]
  },
  {
   "cell_type": "code",
   "execution_count": 37,
   "id": "8c8660a6-4bce-4541-a0fe-6facafd6cd71",
   "metadata": {},
   "outputs": [
    {
     "name": "stdout",
     "output_type": "stream",
     "text": [
      "raj\n"
     ]
    }
   ],
   "source": [
    "print(emp1.first)"
   ]
  },
  {
   "cell_type": "code",
   "execution_count": 38,
   "id": "4d164a3c-0fee-41d0-8b52-c401222ef499",
   "metadata": {},
   "outputs": [
    {
     "name": "stdout",
     "output_type": "stream",
     "text": [
      "sharma\n"
     ]
    }
   ],
   "source": [
    "print(emp1.last)"
   ]
  },
  {
   "cell_type": "code",
   "execution_count": 39,
   "id": "d4a7ce09-69c3-4566-a250-1087aaa367b9",
   "metadata": {},
   "outputs": [],
   "source": [
    "emp2 = Employee('rajwardhan','shinde',55000)"
   ]
  },
  {
   "cell_type": "code",
   "execution_count": 40,
   "id": "67d9a882-d123-435f-9ca9-851878f4b9e1",
   "metadata": {},
   "outputs": [
    {
     "name": "stdout",
     "output_type": "stream",
     "text": [
      "rajwardhan\n"
     ]
    }
   ],
   "source": [
    "print(emp2.first)"
   ]
  },
  {
   "cell_type": "code",
   "execution_count": 41,
   "id": "07224f3a-614b-46d9-a0b2-bf055e442e6f",
   "metadata": {},
   "outputs": [
    {
     "name": "stdout",
     "output_type": "stream",
     "text": [
      "55000\n"
     ]
    }
   ],
   "source": [
    "print(emp2.salary)"
   ]
  },
  {
   "cell_type": "code",
   "execution_count": 42,
   "id": "4f2b90ec-542f-4427-9a43-4c8a31bdce3d",
   "metadata": {},
   "outputs": [],
   "source": [
    "emp3 = Employee('sagar','maske',65000)"
   ]
  },
  {
   "cell_type": "code",
   "execution_count": 43,
   "id": "cd1f227f-88d6-4cf7-939d-39e3e2af52df",
   "metadata": {},
   "outputs": [
    {
     "name": "stdout",
     "output_type": "stream",
     "text": [
      "sagar\n"
     ]
    }
   ],
   "source": [
    "print(emp3.first)"
   ]
  },
  {
   "cell_type": "code",
   "execution_count": 44,
   "id": "5ebf9efe-ab62-49e9-93b1-52353c626f1f",
   "metadata": {},
   "outputs": [
    {
     "name": "stdout",
     "output_type": "stream",
     "text": [
      "maske\n"
     ]
    }
   ],
   "source": [
    "print(emp3.last)"
   ]
  },
  {
   "cell_type": "code",
   "execution_count": 46,
   "id": "b0f8f2d2-f071-496f-ada8-cb699644bd03",
   "metadata": {},
   "outputs": [
    {
     "name": "stdout",
     "output_type": "stream",
     "text": [
      "raj ok\n"
     ]
    }
   ],
   "source": [
    "emp1.show()"
   ]
  },
  {
   "cell_type": "code",
   "execution_count": 47,
   "id": "a4c59ab3-5fee-4cba-84d4-47a819825543",
   "metadata": {},
   "outputs": [
    {
     "name": "stdout",
     "output_type": "stream",
     "text": [
      "rajwardhan ok\n"
     ]
    }
   ],
   "source": [
    "emp2.show()"
   ]
  },
  {
   "cell_type": "code",
   "execution_count": 48,
   "id": "51de222c-0070-49a3-9be4-e5639f702071",
   "metadata": {},
   "outputs": [
    {
     "name": "stdout",
     "output_type": "stream",
     "text": [
      "sagar ok\n"
     ]
    }
   ],
   "source": [
    "emp3.show()"
   ]
  },
  {
   "cell_type": "markdown",
   "id": "99da7e38-4983-417a-9988-99a96762419c",
   "metadata": {},
   "source": [
    "### ENCAPSULATION"
   ]
  },
  {
   "cell_type": "code",
   "execution_count": 105,
   "id": "2b0e2b3e-7547-49db-8d4a-f07bae81ade5",
   "metadata": {},
   "outputs": [],
   "source": [
    "class Employee1():\n",
    "    def __init__ (self,first,last,salary):\n",
    "        self.first = first\n",
    "        self.last = last\n",
    "        self.__salary = salary  #private variable  # if we dont wsnt to access salary\n",
    "        \n",
    "    def show(self):\n",
    "        print(self.__salary) # if we want to show salary\n",
    "\n",
    "    "
   ]
  },
  {
   "cell_type": "code",
   "execution_count": 106,
   "id": "5e407641-6513-4a37-85b1-eda3daad1f0d",
   "metadata": {},
   "outputs": [],
   "source": [
    "emp1=Employee1('raj','sharma',45000)\n",
    "emp2 = Employee1('rajwardhan','shinde',55000)"
   ]
  },
  {
   "cell_type": "code",
   "execution_count": 107,
   "id": "cd09a98f-fbda-4321-8a0e-f1415f143ac0",
   "metadata": {},
   "outputs": [
    {
     "name": "stdout",
     "output_type": "stream",
     "text": [
      "raj\n"
     ]
    }
   ],
   "source": [
    "print(emp1.first)"
   ]
  },
  {
   "cell_type": "code",
   "execution_count": 108,
   "id": "aea1a8ed-a224-43ca-8faa-fe785c1a41f0",
   "metadata": {},
   "outputs": [
    {
     "name": "stdout",
     "output_type": "stream",
     "text": [
      "sharma\n"
     ]
    }
   ],
   "source": [
    "print(emp1.last)"
   ]
  },
  {
   "cell_type": "code",
   "execution_count": 109,
   "id": "842aeaa4-2e95-4b2c-b212-62da7ecc9d5d",
   "metadata": {},
   "outputs": [
    {
     "ename": "AttributeError",
     "evalue": "'Employee1' object has no attribute 'salary'",
     "output_type": "error",
     "traceback": [
      "\u001b[1;31m---------------------------------------------------------------------------\u001b[0m",
      "\u001b[1;31mAttributeError\u001b[0m                            Traceback (most recent call last)",
      "Cell \u001b[1;32mIn[109], line 1\u001b[0m\n\u001b[1;32m----> 1\u001b[0m \u001b[38;5;28mprint\u001b[39m(emp1\u001b[38;5;241m.\u001b[39msalary)\n",
      "\u001b[1;31mAttributeError\u001b[0m: 'Employee1' object has no attribute 'salary'"
     ]
    }
   ],
   "source": [
    "print(emp1.salary)"
   ]
  },
  {
   "cell_type": "code",
   "execution_count": 110,
   "id": "180d1a1d-a7f6-449f-b000-7cc62ff76b8b",
   "metadata": {},
   "outputs": [
    {
     "name": "stdout",
     "output_type": "stream",
     "text": [
      "45000\n"
     ]
    }
   ],
   "source": [
    "emp1.show()"
   ]
  },
  {
   "cell_type": "markdown",
   "id": "f9e07f3b-14b3-451c-aa17-6553853301d6",
   "metadata": {},
   "source": [
    "### INHERITANCE"
   ]
  },
  {
   "cell_type": "code",
   "execution_count": 118,
   "id": "16951644-22b6-4a79-9b06-d3467a8f5475",
   "metadata": {},
   "outputs": [],
   "source": [
    "class Employee2(Employee1): # interite the properties of parent class\n",
    "    pass                    # Employee1 => super class and Employee2 => sub class\n",
    "    "
   ]
  },
  {
   "cell_type": "code",
   "execution_count": 119,
   "id": "c22ae609-f5af-4a56-be60-c8e49412e299",
   "metadata": {},
   "outputs": [],
   "source": [
    "emp4 = Employee2('neha','kulkarni',50000)"
   ]
  },
  {
   "cell_type": "code",
   "execution_count": 120,
   "id": "af867670-4a5a-4d0f-ab87-c949cf98bcd5",
   "metadata": {},
   "outputs": [
    {
     "name": "stdout",
     "output_type": "stream",
     "text": [
      "50000\n"
     ]
    }
   ],
   "source": [
    "emp4.show()"
   ]
  },
  {
   "cell_type": "code",
   "execution_count": 205,
   "id": "194a4e08-a33a-48b9-8231-37aa4a0a9de1",
   "metadata": {},
   "outputs": [],
   "source": [
    "'''\n",
    "create a class called person\n",
    "attribute => name , age, city....(make usenof default parameter also)\n",
    "create a method which will show all the info of a person\n",
    "''';\n",
    "class Person():\n",
    "    def __init__ (self,name,city,age = 25,):\n",
    "        self.name = name\n",
    "        self.city = city\n",
    "        self.age = age\n",
    "        \n",
    "    def show1(self):\n",
    "        print(self.name)\n",
    "        print(self.city)\n",
    "        print(self.age)"
   ]
  },
  {
   "cell_type": "code",
   "execution_count": 206,
   "id": "5b88ee4d-5d2b-49aa-bc90-200956bde3e2",
   "metadata": {},
   "outputs": [],
   "source": [
    "p1 = Person('raj','pune',30)\n",
    "p2 = Person('rajwardhan','mumbai',)"
   ]
  },
  {
   "cell_type": "code",
   "execution_count": 207,
   "id": "bb398449-96fd-4f14-b36a-68c207ac8dcc",
   "metadata": {},
   "outputs": [
    {
     "name": "stdout",
     "output_type": "stream",
     "text": [
      "raj\n"
     ]
    }
   ],
   "source": [
    "print(emp5.name)"
   ]
  },
  {
   "cell_type": "code",
   "execution_count": 208,
   "id": "6c4e5be5-8653-4098-9b8d-09d26207cc8b",
   "metadata": {},
   "outputs": [
    {
     "name": "stdout",
     "output_type": "stream",
     "text": [
      "raj\n",
      "pune\n",
      "30\n"
     ]
    }
   ],
   "source": [
    "p1.show1()"
   ]
  },
  {
   "cell_type": "code",
   "execution_count": 209,
   "id": "eff9e79d-8bd0-41f5-a150-0b8513c1a669",
   "metadata": {},
   "outputs": [
    {
     "name": "stdout",
     "output_type": "stream",
     "text": [
      "rajwardhan\n",
      "mumbai\n",
      "25\n"
     ]
    }
   ],
   "source": [
    "p2.show1()"
   ]
  },
  {
   "cell_type": "code",
   "execution_count": null,
   "id": "48f1ddd6-5446-449c-91d6-422c0afb5d6e",
   "metadata": {},
   "outputs": [],
   "source": []
  }
 ],
 "metadata": {
  "kernelspec": {
   "display_name": "Python 3 (ipykernel)",
   "language": "python",
   "name": "python3"
  },
  "language_info": {
   "codemirror_mode": {
    "name": "ipython",
    "version": 3
   },
   "file_extension": ".py",
   "mimetype": "text/x-python",
   "name": "python",
   "nbconvert_exporter": "python",
   "pygments_lexer": "ipython3",
   "version": "3.11.7"
  }
 },
 "nbformat": 4,
 "nbformat_minor": 5
}
