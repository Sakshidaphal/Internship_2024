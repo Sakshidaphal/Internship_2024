{
 "cells": [
  {
   "cell_type": "code",
   "execution_count": 2,
   "id": "b932db58-4aba-454c-b057-5bd96564e1ba",
   "metadata": {},
   "outputs": [
    {
     "ename": "FileNotFoundError",
     "evalue": "[Errno 2] No such file or directory: 'all.txt'",
     "output_type": "error",
     "traceback": [
      "\u001b[1;31m---------------------------------------------------------------------------\u001b[0m",
      "\u001b[1;31mFileNotFoundError\u001b[0m                         Traceback (most recent call last)",
      "Cell \u001b[1;32mIn[2], line 1\u001b[0m\n\u001b[1;32m----> 1\u001b[0m f \u001b[38;5;241m=\u001b[39m \u001b[38;5;28mopen\u001b[39m(\u001b[38;5;124m'\u001b[39m\u001b[38;5;124mall.txt\u001b[39m\u001b[38;5;124m'\u001b[39m)\n",
      "File \u001b[1;32m~\\anaconda3\\Lib\\site-packages\\IPython\\core\\interactiveshell.py:310\u001b[0m, in \u001b[0;36m_modified_open\u001b[1;34m(file, *args, **kwargs)\u001b[0m\n\u001b[0;32m    303\u001b[0m \u001b[38;5;28;01mif\u001b[39;00m file \u001b[38;5;129;01min\u001b[39;00m {\u001b[38;5;241m0\u001b[39m, \u001b[38;5;241m1\u001b[39m, \u001b[38;5;241m2\u001b[39m}:\n\u001b[0;32m    304\u001b[0m     \u001b[38;5;28;01mraise\u001b[39;00m \u001b[38;5;167;01mValueError\u001b[39;00m(\n\u001b[0;32m    305\u001b[0m         \u001b[38;5;124mf\u001b[39m\u001b[38;5;124m\"\u001b[39m\u001b[38;5;124mIPython won\u001b[39m\u001b[38;5;124m'\u001b[39m\u001b[38;5;124mt let you open fd=\u001b[39m\u001b[38;5;132;01m{\u001b[39;00mfile\u001b[38;5;132;01m}\u001b[39;00m\u001b[38;5;124m by default \u001b[39m\u001b[38;5;124m\"\u001b[39m\n\u001b[0;32m    306\u001b[0m         \u001b[38;5;124m\"\u001b[39m\u001b[38;5;124mas it is likely to crash IPython. If you know what you are doing, \u001b[39m\u001b[38;5;124m\"\u001b[39m\n\u001b[0;32m    307\u001b[0m         \u001b[38;5;124m\"\u001b[39m\u001b[38;5;124myou can use builtins\u001b[39m\u001b[38;5;124m'\u001b[39m\u001b[38;5;124m open.\u001b[39m\u001b[38;5;124m\"\u001b[39m\n\u001b[0;32m    308\u001b[0m     )\n\u001b[1;32m--> 310\u001b[0m \u001b[38;5;28;01mreturn\u001b[39;00m io_open(file, \u001b[38;5;241m*\u001b[39margs, \u001b[38;5;241m*\u001b[39m\u001b[38;5;241m*\u001b[39mkwargs)\n",
      "\u001b[1;31mFileNotFoundError\u001b[0m: [Errno 2] No such file or directory: 'all.txt'"
     ]
    }
   ],
   "source": [
    "f = open('all.txt')"
   ]
  },
  {
   "cell_type": "code",
   "execution_count": 3,
   "id": "dff0f5b6-fe72-4d9e-8808-206a2986ca4c",
   "metadata": {},
   "outputs": [
    {
     "name": "stdout",
     "output_type": "stream",
     "text": [
      "file is not their\n"
     ]
    }
   ],
   "source": [
    "# try and except block.\n",
    "try:\n",
    "    f = open('all.txt')\n",
    "except Exception:\n",
    "    print('file is not their')\n",
    "    \n",
    "    "
   ]
  },
  {
   "cell_type": "code",
   "execution_count": 4,
   "id": "8c0616ed-6cd5-4e5a-a78d-328dafd9cd40",
   "metadata": {},
   "outputs": [
    {
     "name": "stdout",
     "output_type": "stream",
     "text": [
      "file is not their\n"
     ]
    }
   ],
   "source": [
    "try:\n",
    "    f = open('all.txt')\n",
    "    var = var1\n",
    "except Exception:\n",
    "    print('file is not their')"
   ]
  },
  {
   "cell_type": "code",
   "execution_count": 5,
   "id": "4a4d1396-7770-4005-ad2a-e04bfad36998",
   "metadata": {},
   "outputs": [
    {
     "name": "stdout",
     "output_type": "stream",
     "text": [
      "file is not their\n"
     ]
    }
   ],
   "source": [
    "try:\n",
    "    f = open('test1.txt')\n",
    "    var = var1\n",
    "except Exception:\n",
    "    print('file is not their')"
   ]
  },
  {
   "cell_type": "code",
   "execution_count": 6,
   "id": "bfe33b55-cb06-43f8-bbb1-a90a8b7f71a4",
   "metadata": {},
   "outputs": [
    {
     "ename": "NameError",
     "evalue": "name 'var' is not defined",
     "output_type": "error",
     "traceback": [
      "\u001b[1;31m---------------------------------------------------------------------------\u001b[0m",
      "\u001b[1;31mNameError\u001b[0m                                 Traceback (most recent call last)",
      "Cell \u001b[1;32mIn[6], line 3\u001b[0m\n\u001b[0;32m      1\u001b[0m \u001b[38;5;28;01mtry\u001b[39;00m:\n\u001b[0;32m      2\u001b[0m     f \u001b[38;5;241m=\u001b[39m \u001b[38;5;28mopen\u001b[39m(\u001b[38;5;124m'\u001b[39m\u001b[38;5;124mtest1.txt\u001b[39m\u001b[38;5;124m'\u001b[39m)\n\u001b[1;32m----> 3\u001b[0m     var \u001b[38;5;241m=\u001b[39m var\n\u001b[0;32m      4\u001b[0m \u001b[38;5;28;01mexcept\u001b[39;00m \u001b[38;5;167;01mFileNotFoundError\u001b[39;00m:\n\u001b[0;32m      5\u001b[0m     \u001b[38;5;28mprint\u001b[39m(\u001b[38;5;124m'\u001b[39m\u001b[38;5;124mfile is not their\u001b[39m\u001b[38;5;124m'\u001b[39m)\n",
      "\u001b[1;31mNameError\u001b[0m: name 'var' is not defined"
     ]
    }
   ],
   "source": [
    "try:\n",
    "    f = open('test1.txt')\n",
    "    var = var\n",
    "except FileNotFoundError:\n",
    "    print('file is not their')\n"
   ]
  },
  {
   "cell_type": "code",
   "execution_count": 7,
   "id": "c1dc99c8-0b67-44df-b925-e443cd089818",
   "metadata": {},
   "outputs": [
    {
     "name": "stdout",
     "output_type": "stream",
     "text": [
      "something went wrong\n"
     ]
    }
   ],
   "source": [
    "try:\n",
    "    f = open('test1.txt')\n",
    "    var = var\n",
    "except FileNotFoundError:\n",
    "    print('file is not their')\n",
    "except NameError:\n",
    "    print('something went wrong')"
   ]
  },
  {
   "cell_type": "code",
   "execution_count": 8,
   "id": "82f959df-897e-4e68-9158-ff752710e0b1",
   "metadata": {},
   "outputs": [
    {
     "name": "stdout",
     "output_type": "stream",
     "text": [
      "name 'var' is not defined\n"
     ]
    }
   ],
   "source": [
    "try:\n",
    "    f = open('test1.txt')\n",
    "    var = var\n",
    "except FileNotFoundError:\n",
    "    print('file is not their')\n",
    "except Exception as e:\n",
    "    print(e)"
   ]
  },
  {
   "cell_type": "code",
   "execution_count": 9,
   "id": "46e72341-9c0c-4b71-8798-8d33fb833fb7",
   "metadata": {},
   "outputs": [
    {
     "name": "stdout",
     "output_type": "stream",
     "text": [
      "this is first line\n",
      "this is second line\n",
      "this is third line\n"
     ]
    }
   ],
   "source": [
    "# using else\n",
    "try:\n",
    "    f = open('test1.txt')\n",
    "except FileNotFoundError:\n",
    "    print('file is not their')\n",
    "else:                          # will execute if we are not getting an error in try\n",
    "    print(f.read())\n",
    "    f.close()"
   ]
  },
  {
   "cell_type": "code",
   "execution_count": 10,
   "id": "9207ebb7-284d-4c1d-91b6-aa803840d22c",
   "metadata": {},
   "outputs": [
    {
     "name": "stdout",
     "output_type": "stream",
     "text": [
      "file is not their\n",
      "finally\n"
     ]
    }
   ],
   "source": [
    "# finally block\n",
    "# when file is not their\n",
    "try:\n",
    "    f = open('test10.txt')\n",
    "except FileNotFoundError:\n",
    "    print('file is not their')\n",
    "else:                          # will execute if we are not getting an error in try\n",
    "    print('ok')\n",
    "finally:\n",
    "    print('finally')"
   ]
  },
  {
   "cell_type": "code",
   "execution_count": 11,
   "id": "f57a026e-ba4b-460b-8a3f-494b9e7d9b3c",
   "metadata": {},
   "outputs": [
    {
     "name": "stdout",
     "output_type": "stream",
     "text": [
      "ok\n",
      "finally\n"
     ]
    }
   ],
   "source": [
    "# when file is their\n",
    "try:\n",
    "    f = open('test1.txt')\n",
    "except FileNotFoundError:\n",
    "    print('file is not their')\n",
    "else:                          # will execute if we are not getting an error in try\n",
    "    print('ok')\n",
    "finally:\n",
    "    print('finally')"
   ]
  },
  {
   "cell_type": "code",
   "execution_count": null,
   "id": "fd1d25a1-1acc-44f0-9d9a-0e8c4a4c3eb1",
   "metadata": {},
   "outputs": [],
   "source": []
  }
 ],
 "metadata": {
  "kernelspec": {
   "display_name": "Python 3 (ipykernel)",
   "language": "python",
   "name": "python3"
  },
  "language_info": {
   "codemirror_mode": {
    "name": "ipython",
    "version": 3
   },
   "file_extension": ".py",
   "mimetype": "text/x-python",
   "name": "python",
   "nbconvert_exporter": "python",
   "pygments_lexer": "ipython3",
   "version": "3.11.7"
  }
 },
 "nbformat": 4,
 "nbformat_minor": 5
}
