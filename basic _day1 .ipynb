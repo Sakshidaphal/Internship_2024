{
 "cells": [
  {
   "cell_type": "code",
   "execution_count": 1,
   "id": "a71e3fad-ac7a-460d-90db-b5b79df257fc",
   "metadata": {},
   "outputs": [
    {
     "name": "stdout",
     "output_type": "stream",
     "text": [
      "hello world\n"
     ]
    }
   ],
   "source": [
    "print(\"hello world\")"
   ]
  },
  {
   "cell_type": "code",
   "execution_count": 2,
   "id": "f851505e-a2a3-4e55-8a28-a22237a0ddc3",
   "metadata": {},
   "outputs": [
    {
     "data": {
      "text/plain": [
       "'aditya'"
      ]
     },
     "execution_count": 2,
     "metadata": {},
     "output_type": "execute_result"
    }
   ],
   "source": [
    "name = 'Aditya'\n",
    "name.lower()"
   ]
  },
  {
   "cell_type": "code",
   "execution_count": 3,
   "id": "56d1e0d0-2081-4c47-ad95-8b13746429e3",
   "metadata": {},
   "outputs": [
    {
     "data": {
      "text/plain": [
       "'ADITYA'"
      ]
     },
     "execution_count": 3,
     "metadata": {},
     "output_type": "execute_result"
    }
   ],
   "source": [
    "name = 'Aditya'\n",
    "name.upper()"
   ]
  },
  {
   "cell_type": "code",
   "execution_count": 4,
   "id": "ee6ffe3b-e5e8-4dad-a13b-52921f54b428",
   "metadata": {},
   "outputs": [
    {
     "data": {
      "text/plain": [
       "'aDITYA'"
      ]
     },
     "execution_count": 4,
     "metadata": {},
     "output_type": "execute_result"
    }
   ],
   "source": [
    "name = 'Aditya'\n",
    "name.swapcase()"
   ]
  },
  {
   "cell_type": "code",
   "execution_count": 5,
   "id": "454429db-ceb9-4428-a304-3a83d5d6ad08",
   "metadata": {},
   "outputs": [
    {
     "data": {
      "text/plain": [
       "6"
      ]
     },
     "execution_count": 5,
     "metadata": {},
     "output_type": "execute_result"
    }
   ],
   "source": [
    "len(name)"
   ]
  },
  {
   "cell_type": "code",
   "execution_count": 6,
   "id": "f06033af-fc03-440e-9598-b4ccce4a7e36",
   "metadata": {},
   "outputs": [
    {
     "data": {
      "text/plain": [
       "False"
      ]
     },
     "execution_count": 6,
     "metadata": {},
     "output_type": "execute_result"
    }
   ],
   "source": [
    "name.isupper()"
   ]
  },
  {
   "cell_type": "code",
   "execution_count": 7,
   "id": "47e55a61-bd4c-4099-9924-478ce6224957",
   "metadata": {},
   "outputs": [
    {
     "data": {
      "text/plain": [
       "False"
      ]
     },
     "execution_count": 7,
     "metadata": {},
     "output_type": "execute_result"
    }
   ],
   "source": [
    "name.islower()"
   ]
  },
  {
   "cell_type": "code",
   "execution_count": 8,
   "id": "a1e3883e-31cf-4a11-b8e5-496919a603fe",
   "metadata": {},
   "outputs": [
    {
     "data": {
      "text/plain": [
       "True"
      ]
     },
     "execution_count": 8,
     "metadata": {},
     "output_type": "execute_result"
    }
   ],
   "source": [
    "name.istitle()"
   ]
  },
  {
   "cell_type": "code",
   "execution_count": 9,
   "id": "98799eb3-0b08-4c17-ab44-8f660bc511bf",
   "metadata": {},
   "outputs": [
    {
     "data": {
      "text/plain": [
       "True"
      ]
     },
     "execution_count": 9,
     "metadata": {},
     "output_type": "execute_result"
    }
   ],
   "source": [
    "data1 = 'Aditya'\n",
    "data2 = '1234'\n",
    "data3 = 'Adi123'\n",
    "data1.isalpha()"
   ]
  },
  {
   "cell_type": "code",
   "execution_count": 10,
   "id": "0740d963-e0e2-44eb-a8db-0f3ceec7cbc7",
   "metadata": {},
   "outputs": [
    {
     "data": {
      "text/plain": [
       "False"
      ]
     },
     "execution_count": 10,
     "metadata": {},
     "output_type": "execute_result"
    }
   ],
   "source": [
    "data2.isalpha()"
   ]
  },
  {
   "cell_type": "code",
   "execution_count": 11,
   "id": "41770b27-2825-4f04-af44-46b1498e85cc",
   "metadata": {},
   "outputs": [
    {
     "data": {
      "text/plain": [
       "False"
      ]
     },
     "execution_count": 11,
     "metadata": {},
     "output_type": "execute_result"
    }
   ],
   "source": [
    "data3.isalpha()"
   ]
  },
  {
   "cell_type": "code",
   "execution_count": 12,
   "id": "70ea00fc-86d5-434d-9fcf-e84f37e50de0",
   "metadata": {},
   "outputs": [
    {
     "data": {
      "text/plain": [
       "False"
      ]
     },
     "execution_count": 12,
     "metadata": {},
     "output_type": "execute_result"
    }
   ],
   "source": [
    "data1.isdigit()"
   ]
  },
  {
   "cell_type": "code",
   "execution_count": 13,
   "id": "9d261a2c-e032-4bbe-bfe7-1c5e4ec78981",
   "metadata": {},
   "outputs": [
    {
     "data": {
      "text/plain": [
       "True"
      ]
     },
     "execution_count": 13,
     "metadata": {},
     "output_type": "execute_result"
    }
   ],
   "source": [
    "data2.isdigit()"
   ]
  },
  {
   "cell_type": "code",
   "execution_count": 14,
   "id": "df323e6f-7ffb-419e-af75-80b97b41bd2b",
   "metadata": {},
   "outputs": [
    {
     "data": {
      "text/plain": [
       "False"
      ]
     },
     "execution_count": 14,
     "metadata": {},
     "output_type": "execute_result"
    }
   ],
   "source": [
    "data3.isdigit()"
   ]
  },
  {
   "cell_type": "code",
   "execution_count": 15,
   "id": "2db8d4dc-307e-40a0-a35b-ea824da22b88",
   "metadata": {},
   "outputs": [
    {
     "data": {
      "text/plain": [
       "True"
      ]
     },
     "execution_count": 15,
     "metadata": {},
     "output_type": "execute_result"
    }
   ],
   "source": [
    "data1.isalnum()"
   ]
  },
  {
   "cell_type": "code",
   "execution_count": 16,
   "id": "b07499cd-cd70-4a06-8cee-e10beccddc34",
   "metadata": {},
   "outputs": [
    {
     "data": {
      "text/plain": [
       "True"
      ]
     },
     "execution_count": 16,
     "metadata": {},
     "output_type": "execute_result"
    }
   ],
   "source": [
    "data2.isalnum()"
   ]
  },
  {
   "cell_type": "code",
   "execution_count": 17,
   "id": "b2ef6252-a2d8-4490-81b4-8f20c98df63d",
   "metadata": {},
   "outputs": [
    {
     "data": {
      "text/plain": [
       "True"
      ]
     },
     "execution_count": 17,
     "metadata": {},
     "output_type": "execute_result"
    }
   ],
   "source": [
    "data3.isalnum()"
   ]
  },
  {
   "cell_type": "code",
   "execution_count": 18,
   "id": "e44db4a1-228e-4fb1-8b17-babcc9b53765",
   "metadata": {},
   "outputs": [],
   "source": [
    "name = '  Aditya  '"
   ]
  },
  {
   "cell_type": "code",
   "execution_count": 19,
   "id": "c4e49d7f-8171-4c7a-8595-7229ab320d6c",
   "metadata": {},
   "outputs": [
    {
     "data": {
      "text/plain": [
       "'Aditya  '"
      ]
     },
     "execution_count": 19,
     "metadata": {},
     "output_type": "execute_result"
    }
   ],
   "source": [
    "name.lstrip()"
   ]
  },
  {
   "cell_type": "code",
   "execution_count": 20,
   "id": "d67d6ec9-9775-42f2-b317-edcdcafa7acb",
   "metadata": {},
   "outputs": [
    {
     "data": {
      "text/plain": [
       "'  Aditya'"
      ]
     },
     "execution_count": 20,
     "metadata": {},
     "output_type": "execute_result"
    }
   ],
   "source": [
    "name.rstrip()"
   ]
  },
  {
   "cell_type": "code",
   "execution_count": 21,
   "id": "a2d4505f-8438-4477-9fea-2c7c9ef9c363",
   "metadata": {},
   "outputs": [
    {
     "data": {
      "text/plain": [
       "'Aditya'"
      ]
     },
     "execution_count": 21,
     "metadata": {},
     "output_type": "execute_result"
    }
   ],
   "source": [
    "name.strip()"
   ]
  },
  {
   "cell_type": "code",
   "execution_count": 22,
   "id": "0381d254-3573-4d19-9f62-34b13bbd7fa8",
   "metadata": {},
   "outputs": [
    {
     "data": {
      "text/plain": [
       "True"
      ]
     },
     "execution_count": 22,
     "metadata": {},
     "output_type": "execute_result"
    }
   ],
   "source": [
    "name.startswith('  A')"
   ]
  },
  {
   "cell_type": "code",
   "execution_count": 23,
   "id": "a832ff4d-0010-40ae-b0cb-5be8ff45e826",
   "metadata": {},
   "outputs": [
    {
     "data": {
      "text/plain": [
       "True"
      ]
     },
     "execution_count": 23,
     "metadata": {},
     "output_type": "execute_result"
    }
   ],
   "source": [
    "name.endswith('a  ')"
   ]
  },
  {
   "cell_type": "code",
   "execution_count": 24,
   "id": "23dd1daf-7a0d-486f-8b39-2274b21a89e3",
   "metadata": {},
   "outputs": [
    {
     "data": {
      "text/plain": [
       "'  aaditya  '"
      ]
     },
     "execution_count": 24,
     "metadata": {},
     "output_type": "execute_result"
    }
   ],
   "source": [
    "name.replace('A','aa')"
   ]
  },
  {
   "cell_type": "code",
   "execution_count": 25,
   "id": "1029e251-b9ad-4121-be39-5ca34ca381e3",
   "metadata": {},
   "outputs": [
    {
     "data": {
      "text/plain": [
       "4"
      ]
     },
     "execution_count": 25,
     "metadata": {},
     "output_type": "execute_result"
    }
   ],
   "source": [
    "name.find('i')"
   ]
  },
  {
   "cell_type": "code",
   "execution_count": 26,
   "id": "56751947-97fc-41ae-93be-ff75a53d0120",
   "metadata": {},
   "outputs": [
    {
     "data": {
      "text/plain": [
       "['__add__',\n",
       " '__class__',\n",
       " '__contains__',\n",
       " '__delattr__',\n",
       " '__dir__',\n",
       " '__doc__',\n",
       " '__eq__',\n",
       " '__format__',\n",
       " '__ge__',\n",
       " '__getattribute__',\n",
       " '__getitem__',\n",
       " '__getnewargs__',\n",
       " '__getstate__',\n",
       " '__gt__',\n",
       " '__hash__',\n",
       " '__init__',\n",
       " '__init_subclass__',\n",
       " '__iter__',\n",
       " '__le__',\n",
       " '__len__',\n",
       " '__lt__',\n",
       " '__mod__',\n",
       " '__mul__',\n",
       " '__ne__',\n",
       " '__new__',\n",
       " '__reduce__',\n",
       " '__reduce_ex__',\n",
       " '__repr__',\n",
       " '__rmod__',\n",
       " '__rmul__',\n",
       " '__setattr__',\n",
       " '__sizeof__',\n",
       " '__str__',\n",
       " '__subclasshook__',\n",
       " 'capitalize',\n",
       " 'casefold',\n",
       " 'center',\n",
       " 'count',\n",
       " 'encode',\n",
       " 'endswith',\n",
       " 'expandtabs',\n",
       " 'find',\n",
       " 'format',\n",
       " 'format_map',\n",
       " 'index',\n",
       " 'isalnum',\n",
       " 'isalpha',\n",
       " 'isascii',\n",
       " 'isdecimal',\n",
       " 'isdigit',\n",
       " 'isidentifier',\n",
       " 'islower',\n",
       " 'isnumeric',\n",
       " 'isprintable',\n",
       " 'isspace',\n",
       " 'istitle',\n",
       " 'isupper',\n",
       " 'join',\n",
       " 'ljust',\n",
       " 'lower',\n",
       " 'lstrip',\n",
       " 'maketrans',\n",
       " 'partition',\n",
       " 'removeprefix',\n",
       " 'removesuffix',\n",
       " 'replace',\n",
       " 'rfind',\n",
       " 'rindex',\n",
       " 'rjust',\n",
       " 'rpartition',\n",
       " 'rsplit',\n",
       " 'rstrip',\n",
       " 'split',\n",
       " 'splitlines',\n",
       " 'startswith',\n",
       " 'strip',\n",
       " 'swapcase',\n",
       " 'title',\n",
       " 'translate',\n",
       " 'upper',\n",
       " 'zfill']"
      ]
     },
     "execution_count": 26,
     "metadata": {},
     "output_type": "execute_result"
    }
   ],
   "source": [
    "dir(name)"
   ]
  },
  {
   "cell_type": "code",
   "execution_count": 27,
   "id": "eb0b08d5-2ed0-4c75-aecd-54d05b33d857",
   "metadata": {},
   "outputs": [
    {
     "name": "stdout",
     "output_type": "stream",
     "text": [
      "Help on built-in function lower:\n",
      "\n",
      "lower() method of builtins.str instance\n",
      "    Return a copy of the string converted to lowercase.\n",
      "\n"
     ]
    }
   ],
   "source": [
    "help(name.lower)"
   ]
  },
  {
   "cell_type": "code",
   "execution_count": 28,
   "id": "efe88ffc-3cde-4583-9de9-7ec7cfe37043",
   "metadata": {},
   "outputs": [
    {
     "data": {
      "text/plain": [
       "'Aditya1234'"
      ]
     },
     "execution_count": 28,
     "metadata": {},
     "output_type": "execute_result"
    }
   ],
   "source": [
    "name1 = 'Aditya'\n",
    "name2 = '1234'\n",
    "res = name1 + name2\n",
    "res"
   ]
  },
  {
   "cell_type": "code",
   "execution_count": 29,
   "id": "dcb81eda-0e69-4656-b99a-0a7929d2eecb",
   "metadata": {},
   "outputs": [
    {
     "data": {
      "text/plain": [
       "'  Aditya    Aditya    Aditya  '"
      ]
     },
     "execution_count": 29,
     "metadata": {},
     "output_type": "execute_result"
    }
   ],
   "source": [
    "name * 3"
   ]
  },
  {
   "cell_type": "markdown",
   "id": "8e31c640-34c9-4a20-a28d-b5df5366c9b5",
   "metadata": {},
   "source": [
    "### ESCAPE SEQUENCE"
   ]
  },
  {
   "cell_type": "code",
   "execution_count": 30,
   "id": "638e2b8b-0111-4bcb-bc00-9ac03fb2bf31",
   "metadata": {},
   "outputs": [
    {
     "name": "stdout",
     "output_type": "stream",
     "text": [
      "hello\n",
      "world\n"
     ]
    }
   ],
   "source": [
    "print('hello\\nworld')"
   ]
  },
  {
   "cell_type": "code",
   "execution_count": 31,
   "id": "d9a576d6-add4-4966-93e6-c026deb28d18",
   "metadata": {},
   "outputs": [
    {
     "name": "stdout",
     "output_type": "stream",
     "text": [
      "hello\tworld\n"
     ]
    }
   ],
   "source": [
    "print('hello\\tworld')"
   ]
  },
  {
   "cell_type": "code",
   "execution_count": 32,
   "id": "e1d4925d-c21c-4601-bdba-7f769aa99a32",
   "metadata": {},
   "outputs": [
    {
     "name": "stdout",
     "output_type": "stream",
     "text": [
      "hello\\*world\n"
     ]
    }
   ],
   "source": [
    "print('hello\\*world')"
   ]
  },
  {
   "cell_type": "markdown",
   "id": "4eab4ee5-aeb3-4898-8087-d8804fb1e214",
   "metadata": {},
   "source": [
    "### doc string-multiline comment"
   ]
  },
  {
   "cell_type": "code",
   "execution_count": 33,
   "id": "7c1a5db8-bf4a-40ee-9e11-46d2a6624858",
   "metadata": {},
   "outputs": [
    {
     "name": "stdout",
     "output_type": "stream",
     "text": [
      "this is 1st\n",
      "this is 2nd\n",
      "thisnis 3rd\n",
      "\n"
     ]
    }
   ],
   "source": [
    "print('''this is 1st\n",
    "this is 2nd\n",
    "thisnis 3rd\n",
    "''');"
   ]
  },
  {
   "cell_type": "markdown",
   "id": "603b4a05-f7f3-4344-950e-676003ff35bc",
   "metadata": {},
   "source": [
    "### ASCII VALUES"
   ]
  },
  {
   "cell_type": "code",
   "execution_count": 34,
   "id": "46da0e3c-a1c1-4734-930f-b4db5b26bd12",
   "metadata": {},
   "outputs": [
    {
     "data": {
      "text/plain": [
       "65"
      ]
     },
     "execution_count": 34,
     "metadata": {},
     "output_type": "execute_result"
    }
   ],
   "source": [
    "ord('A')"
   ]
  },
  {
   "cell_type": "code",
   "execution_count": 35,
   "id": "783ade78-a90e-4bca-a6f6-8941a129b656",
   "metadata": {},
   "outputs": [
    {
     "data": {
      "text/plain": [
       "97"
      ]
     },
     "execution_count": 35,
     "metadata": {},
     "output_type": "execute_result"
    }
   ],
   "source": [
    "ord('a')"
   ]
  },
  {
   "cell_type": "code",
   "execution_count": 36,
   "id": "38fd512f-ac76-414e-b712-d0396d0523a0",
   "metadata": {},
   "outputs": [
    {
     "data": {
      "text/plain": [
       "'z'"
      ]
     },
     "execution_count": 36,
     "metadata": {},
     "output_type": "execute_result"
    }
   ],
   "source": [
    "chr(122)"
   ]
  },
  {
   "cell_type": "code",
   "execution_count": 37,
   "id": "8c1935e4-3873-4329-9eea-7e77fe61206e",
   "metadata": {},
   "outputs": [
    {
     "data": {
      "text/plain": [
       "'x'"
      ]
     },
     "execution_count": 37,
     "metadata": {},
     "output_type": "execute_result"
    }
   ],
   "source": [
    "chr(120)"
   ]
  },
  {
   "cell_type": "code",
   "execution_count": 38,
   "id": "f28cd5d8-8c17-43a5-a791-8d3d6cb7937f",
   "metadata": {},
   "outputs": [
    {
     "name": "stdout",
     "output_type": "stream",
     "text": [
      "my name is Riya and marks are 85\n"
     ]
    }
   ],
   "source": [
    "name = 'Riya'\n",
    "marks = 85\n",
    "print('my name is' ,name,'and marks are',marks)"
   ]
  },
  {
   "cell_type": "code",
   "execution_count": 39,
   "id": "34f285ef-efd4-4f80-b3c4-caf300289d6f",
   "metadata": {},
   "outputs": [
    {
     "name": "stdout",
     "output_type": "stream",
     "text": [
      "my name is Riya and marks are 85.00\n"
     ]
    }
   ],
   "source": [
    "print('my name is %s and marks are %.2f'%(name, marks))"
   ]
  },
  {
   "cell_type": "code",
   "execution_count": 40,
   "id": "0a9a7eb8-0685-4d72-a05e-2607f951a665",
   "metadata": {},
   "outputs": [],
   "source": [
    "city='pune'"
   ]
  },
  {
   "cell_type": "code",
   "execution_count": 41,
   "id": "56969eda-e6cd-411c-ae7b-1b4f686ca346",
   "metadata": {},
   "outputs": [
    {
     "name": "stdout",
     "output_type": "stream",
     "text": [
      "Riya\n",
      "85\n",
      "pune\n"
     ]
    }
   ],
   "source": [
    "print(name, marks,city,sep = '\\n')"
   ]
  },
  {
   "cell_type": "markdown",
   "id": "e89421da-6759-4ffa-8916-8edf00bcd4fc",
   "metadata": {},
   "source": [
    "### ASSIGNMENT OPERATOR"
   ]
  },
  {
   "cell_type": "code",
   "execution_count": 42,
   "id": "62da000e-4fa3-4e79-b735-95de5f75dde6",
   "metadata": {},
   "outputs": [],
   "source": [
    "num1=50\n",
    "num2=60"
   ]
  },
  {
   "cell_type": "code",
   "execution_count": 43,
   "id": "6ffe5266-2fb5-4341-8175-174db5e6c066",
   "metadata": {},
   "outputs": [
    {
     "data": {
      "text/plain": [
       "True"
      ]
     },
     "execution_count": 43,
     "metadata": {},
     "output_type": "execute_result"
    }
   ],
   "source": [
    "num1 < num2 and num1 > 0"
   ]
  },
  {
   "cell_type": "code",
   "execution_count": 44,
   "id": "81e60e4a-aa89-4cd6-953c-344e81100a7c",
   "metadata": {},
   "outputs": [
    {
     "data": {
      "text/plain": [
       "True"
      ]
     },
     "execution_count": 44,
     "metadata": {},
     "output_type": "execute_result"
    }
   ],
   "source": [
    "num1 < num2 or num1 > 0"
   ]
  },
  {
   "cell_type": "markdown",
   "id": "71e08aa5-548d-4291-9442-9c63dc100f0e",
   "metadata": {},
   "source": [
    "### MEMBERSHIP SELECTION"
   ]
  },
  {
   "cell_type": "code",
   "execution_count": 45,
   "id": "0ae2f7b6-b8cf-4152-93dc-d038cf402317",
   "metadata": {},
   "outputs": [],
   "source": [
    "name = 'riya'"
   ]
  },
  {
   "cell_type": "code",
   "execution_count": 46,
   "id": "ba0ee734-7689-4a9d-a6d5-e97d046cd5ef",
   "metadata": {},
   "outputs": [
    {
     "data": {
      "text/plain": [
       "True"
      ]
     },
     "execution_count": 46,
     "metadata": {},
     "output_type": "execute_result"
    }
   ],
   "source": [
    "'i'in name"
   ]
  },
  {
   "cell_type": "code",
   "execution_count": 47,
   "id": "38c01014-83c2-41af-b36e-5f4ddf3d1aae",
   "metadata": {},
   "outputs": [
    {
     "data": {
      "text/plain": [
       "False"
      ]
     },
     "execution_count": 47,
     "metadata": {},
     "output_type": "execute_result"
    }
   ],
   "source": [
    "'i' not in name"
   ]
  },
  {
   "cell_type": "markdown",
   "id": "f6e1eab6-d2d7-427f-9d2c-b705df137521",
   "metadata": {},
   "source": [
    "### TYPE CASTING"
   ]
  },
  {
   "cell_type": "code",
   "execution_count": 48,
   "id": "6e575489-be58-490f-a5e2-eef366238d2f",
   "metadata": {},
   "outputs": [],
   "source": [
    "num1=34\n",
    "num2=33.12\n"
   ]
  },
  {
   "cell_type": "code",
   "execution_count": 49,
   "id": "ff39ab56-aa72-45cf-8289-ef8b485b86f1",
   "metadata": {},
   "outputs": [
    {
     "data": {
      "text/plain": [
       "67.12"
      ]
     },
     "execution_count": 49,
     "metadata": {},
     "output_type": "execute_result"
    }
   ],
   "source": [
    "num1 + num2"
   ]
  },
  {
   "cell_type": "code",
   "execution_count": 50,
   "id": "43566b44-d78c-43d3-96a5-93d7f9d9d114",
   "metadata": {},
   "outputs": [
    {
     "data": {
      "text/plain": [
       "67"
      ]
     },
     "execution_count": 50,
     "metadata": {},
     "output_type": "execute_result"
    }
   ],
   "source": [
    "num1 + int (num2)"
   ]
  },
  {
   "cell_type": "code",
   "execution_count": 51,
   "id": "b86cf161-690b-4c83-ad47-159302177a7c",
   "metadata": {},
   "outputs": [],
   "source": [
    "num3 = '1234'"
   ]
  },
  {
   "cell_type": "code",
   "execution_count": 52,
   "id": "8032548f-588d-4921-b0f3-d60dee719250",
   "metadata": {},
   "outputs": [
    {
     "data": {
      "text/plain": [
       "'123412341234'"
      ]
     },
     "execution_count": 52,
     "metadata": {},
     "output_type": "execute_result"
    }
   ],
   "source": [
    "num3 * 3"
   ]
  },
  {
   "cell_type": "code",
   "execution_count": 53,
   "id": "d57fd6b4-770e-4b41-95b9-6f66d78248e4",
   "metadata": {},
   "outputs": [
    {
     "data": {
      "text/plain": [
       "3702"
      ]
     },
     "execution_count": 53,
     "metadata": {},
     "output_type": "execute_result"
    }
   ],
   "source": [
    "int(num3) * 3"
   ]
  },
  {
   "cell_type": "markdown",
   "id": "93a7ddec-2853-40b1-8c25-22353ff8300a",
   "metadata": {},
   "source": [
    "### USER INPUT"
   ]
  },
  {
   "cell_type": "code",
   "execution_count": 54,
   "id": "dd21206a-d85a-41a0-bba1-43c0ab9c8dde",
   "metadata": {},
   "outputs": [
    {
     "name": "stdin",
     "output_type": "stream",
     "text": [
      "enter 1st number 10\n",
      "enter 2nd number 20\n"
     ]
    }
   ],
   "source": [
    "num1 = int(input('enter 1st number'))\n",
    "num2 = int(input('enter 2nd number'))"
   ]
  },
  {
   "cell_type": "code",
   "execution_count": 55,
   "id": "6db2a8cc-49cb-4453-b133-d41f19d401a3",
   "metadata": {},
   "outputs": [
    {
     "name": "stdout",
     "output_type": "stream",
     "text": [
      "Addition is: 30\n"
     ]
    }
   ],
   "source": [
    "add = num1 + num2\n",
    "print('Addition is:',add)"
   ]
  },
  {
   "cell_type": "code",
   "execution_count": 56,
   "id": "4992c0c9-6a83-470c-b673-b63cec77ce06",
   "metadata": {},
   "outputs": [],
   "source": [
    "'''write a program to repeat string take user input \n",
    "and display the output''';\n"
   ]
  },
  {
   "cell_type": "code",
   "execution_count": 58,
   "id": "feb8f034-4d34-4fac-8f8b-305ed8d60e95",
   "metadata": {},
   "outputs": [
    {
     "name": "stdin",
     "output_type": "stream",
     "text": [
      "enter a string sakshi\n",
      "enter the number of repetation 5\n"
     ]
    }
   ],
   "source": [
    "in1 = (input('enter a string'))\n",
    "in2 = int(input('enter the number of repetation'))"
   ]
  },
  {
   "cell_type": "code",
   "execution_count": 59,
   "id": "de59b67a-08f1-4737-a4aa-695e393d6fd1",
   "metadata": {},
   "outputs": [
    {
     "name": "stdout",
     "output_type": "stream",
     "text": [
      "sakshisakshisakshisakshisakshi\n"
     ]
    }
   ],
   "source": [
    "print(in1 * in2)"
   ]
  },
  {
   "cell_type": "code",
   "execution_count": 60,
   "id": "3025a9fb-6dd1-41d1-b6f0-b469c1f62a58",
   "metadata": {},
   "outputs": [],
   "source": [
    "'''take base and height of the triangle as input\n",
    "and find the area of triangle''';"
   ]
  },
  {
   "cell_type": "code",
   "execution_count": 61,
   "id": "0bf587df-25bd-4351-9480-f54b217d8eeb",
   "metadata": {},
   "outputs": [
    {
     "name": "stdin",
     "output_type": "stream",
     "text": [
      "enter the base 30\n",
      "enter the height 45\n"
     ]
    },
    {
     "name": "stdout",
     "output_type": "stream",
     "text": [
      "675.0\n"
     ]
    }
   ],
   "source": [
    "base = int(input('enter the base'))\n",
    "height = int(input('enter the height'))\n",
    "area = 1/2 * base * height\n",
    "print(area)"
   ]
  },
  {
   "cell_type": "code",
   "execution_count": 62,
   "id": "bb13f8c0-e24c-4190-8bd0-f11c2aec6f43",
   "metadata": {},
   "outputs": [],
   "source": [
    "'''take seconds as user input and\n",
    "convert to hour:min:sec format''';"
   ]
  },
  {
   "cell_type": "code",
   "execution_count": 63,
   "id": "a9837e80-31be-42a1-9e46-181414749bbb",
   "metadata": {},
   "outputs": [
    {
     "name": "stdin",
     "output_type": "stream",
     "text": [
      "enter the seconds 1234\n"
     ]
    },
    {
     "name": "stdout",
     "output_type": "stream",
     "text": [
      "0\n",
      "1234\n",
      "20\n",
      "34\n",
      "conversion is: 0 : 20 : 34\n"
     ]
    }
   ],
   "source": [
    "sec = int(input('enter the seconds'))\n",
    "hours = sec // 3600\n",
    "print(hours)\n",
    "rem_sec = sec % 3600\n",
    "print(rem_sec)\n",
    "min = rem_sec // 60\n",
    "print(min)\n",
    "second = rem_sec % 60\n",
    "print(second)\n",
    "print('conversion is:',hours,':',min,':',second)"
   ]
  },
  {
   "cell_type": "code",
   "execution_count": null,
   "id": "f4621ad5-f54e-4711-ad57-3c2aca33033f",
   "metadata": {},
   "outputs": [],
   "source": []
  }
 ],
 "metadata": {
  "kernelspec": {
   "display_name": "Python 3 (ipykernel)",
   "language": "python",
   "name": "python3"
  },
  "language_info": {
   "codemirror_mode": {
    "name": "ipython",
    "version": 3
   },
   "file_extension": ".py",
   "mimetype": "text/x-python",
   "name": "python",
   "nbconvert_exporter": "python",
   "pygments_lexer": "ipython3",
   "version": "3.11.7"
  }
 },
 "nbformat": 4,
 "nbformat_minor": 5
}
