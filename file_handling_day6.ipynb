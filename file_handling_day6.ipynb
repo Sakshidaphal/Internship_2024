{
 "cells": [
  {
   "cell_type": "code",
   "execution_count": 1,
   "id": "6797bb74-d4f7-4ded-ab54-ca81658c7585",
   "metadata": {},
   "outputs": [],
   "source": [
    "f = open('maha.txt','r')"
   ]
  },
  {
   "cell_type": "code",
   "execution_count": 2,
   "id": "4c4e9994-5a7a-424a-8ac1-f6fddec4e243",
   "metadata": {},
   "outputs": [
    {
     "name": "stdout",
     "output_type": "stream",
     "text": [
      "Python is a widely used general-purpose, high level programming language. It was created by Guido van Rossum in 1991 and further developed by the Python Software Foundation. It was designed with an emphasis on code readability, and its syntax allows programmers to express their concepts in fewer lines of code.\n",
      "\n",
      "Python is a programming language that lets you work quickly and integrate systems more efficiently.\n"
     ]
    }
   ],
   "source": [
    "print(f.read())"
   ]
  },
  {
   "cell_type": "code",
   "execution_count": 3,
   "id": "95d0ccc9-cb27-4593-a08e-6bf5f79dc5e4",
   "metadata": {},
   "outputs": [
    {
     "name": "stdout",
     "output_type": "stream",
     "text": [
      "r\n"
     ]
    }
   ],
   "source": [
    "print(f.mode)"
   ]
  },
  {
   "cell_type": "code",
   "execution_count": 4,
   "id": "51db843b-6d48-416f-b04a-88d52d5b18a2",
   "metadata": {},
   "outputs": [],
   "source": [
    "f.close()"
   ]
  },
  {
   "cell_type": "code",
   "execution_count": 5,
   "id": "61d072be-78ee-4e18-9b43-89535b5d3a51",
   "metadata": {},
   "outputs": [
    {
     "data": {
      "text/plain": [
       "True"
      ]
     },
     "execution_count": 5,
     "metadata": {},
     "output_type": "execute_result"
    }
   ],
   "source": [
    "f.closed"
   ]
  },
  {
   "cell_type": "code",
   "execution_count": 6,
   "id": "022f8e81-2a04-4180-baae-be09d939d914",
   "metadata": {},
   "outputs": [
    {
     "name": "stdout",
     "output_type": "stream",
     "text": [
      "Python is a widely used general-purpose, high level programming language. It was created by Guido van Rossum in 1991 and further developed by the Python Software Foundation. It was designed with an emphasis on code readability, and its syntax allows programmers to express their concepts in fewer lines of code.\n",
      "\n",
      "Python is a programming language that lets you work quickly and integrate systems more efficiently.\n"
     ]
    }
   ],
   "source": [
    "# open with content manager\n",
    "with open('maha.txt','r') as f:\n",
    "    content = f.read()\n",
    "    print(content)"
   ]
  },
  {
   "cell_type": "code",
   "execution_count": 8,
   "id": "d7039020-b282-44c7-9412-b9ba9821fd7c",
   "metadata": {},
   "outputs": [
    {
     "name": "stdout",
     "output_type": "stream",
     "text": [
      "['this is first line\\n', 'this is second line\\n', 'this is third line']\n"
     ]
    }
   ],
   "source": [
    "with open('test1.txt','r') as f:\n",
    "    content = f.readlines()\n",
    "    print(content)"
   ]
  },
  {
   "cell_type": "code",
   "execution_count": 9,
   "id": "d96a7dab-38a8-49af-9aec-8989dc357b4f",
   "metadata": {},
   "outputs": [
    {
     "name": "stdout",
     "output_type": "stream",
     "text": [
      "this is first line\n",
      "\n"
     ]
    }
   ],
   "source": [
    "# if we want to read only first line.\n",
    "with open('test1.txt','r') as f:\n",
    "    content = f.readline()\n",
    "    print(content)"
   ]
  },
  {
   "cell_type": "code",
   "execution_count": 10,
   "id": "ba06e129-9763-4e69-99fb-3cd0ab8ac35d",
   "metadata": {},
   "outputs": [
    {
     "name": "stdout",
     "output_type": "stream",
     "text": [
      "this is first line\n",
      "\n",
      "this is second line\n",
      "\n"
     ]
    }
   ],
   "source": [
    "# want to print 2 lines.\n",
    "with open('test1.txt','r') as f:\n",
    "    content = f.readline()\n",
    "    print(content)\n",
    "\n",
    "    content = f.readline()\n",
    "    print(content)\n"
   ]
  },
  {
   "cell_type": "code",
   "execution_count": 11,
   "id": "dda62260-7071-4723-ab48-bec3cb2667d9",
   "metadata": {},
   "outputs": [
    {
     "name": "stdout",
     "output_type": "stream",
     "text": [
      "this is first line\n",
      "  this is second line\n",
      "  this is third line  "
     ]
    }
   ],
   "source": [
    "with open('test1.txt','r') as f:\n",
    "    for line in f:\n",
    "        print(line, end = '  ')"
   ]
  },
  {
   "cell_type": "code",
   "execution_count": 12,
   "id": "2ee3dc36-bb59-4270-a88a-204589cae707",
   "metadata": {},
   "outputs": [
    {
     "name": "stdout",
     "output_type": "stream",
     "text": [
      "thi\n"
     ]
    }
   ],
   "source": [
    "# read the 3 character\n",
    "with open('test1.txt','r') as f:\n",
    "    content = f.read(3)\n",
    "    print(content)\n"
   ]
  },
  {
   "cell_type": "code",
   "execution_count": null,
   "id": "835846ae-758f-4b8c-9d2e-81ec68cd28e8",
   "metadata": {},
   "outputs": [],
   "source": [
    "#    use while loop to read entire file.. 5 character at a time. \n",
    "\n",
    "with open('test1.txt','r') as f:\n",
    "    size = 5\n",
    "\n",
    "    content = f.read(size)\n",
    "    while len(content) > 0:\n",
    "         print(content,end='*')\n",
    "         content = f.read(size)\n",
    "   "
   ]
  },
  {
   "cell_type": "code",
   "execution_count": 14,
   "id": "e92c2062-d4c9-40a0-a738-e84ac0ad16c0",
   "metadata": {},
   "outputs": [
    {
     "name": "stdout",
     "output_type": "stream",
     "text": [
      "this \n",
      "this \n"
     ]
    }
   ],
   "source": [
    "# in the 2nd phase start from the start again.\n",
    "with open('test1.txt','r') as f:\n",
    "    size = 5\n",
    "    content = f.read(size)\n",
    "    print(content)\n",
    "\n",
    "    f.seek(0)\n",
    "\n",
    "    content = f.read(size)\n",
    "    print(content)"
   ]
  },
  {
   "cell_type": "markdown",
   "id": "bc43f39b-08da-4850-a667-73a2e7f21fc7",
   "metadata": {},
   "source": [
    "### WRITE"
   ]
  },
  {
   "cell_type": "code",
   "execution_count": 15,
   "id": "5f07aad9-914b-4075-b137-e8599cf850d8",
   "metadata": {},
   "outputs": [],
   "source": [
    "# create a empty text file.\n",
    "with open('write.txt','w') as w:\n",
    "  pass"
   ]
  },
  {
   "cell_type": "code",
   "execution_count": 16,
   "id": "f80b0247-7eaf-493c-83d0-5ad5adf44f9b",
   "metadata": {},
   "outputs": [],
   "source": [
    "# write in a file.\n",
    "with open('write.txt','w') as w:\n",
    "    w.write('My name is sakshi')"
   ]
  },
  {
   "cell_type": "code",
   "execution_count": 17,
   "id": "4b46f42b-8305-430e-99c7-85a719fe6b08",
   "metadata": {},
   "outputs": [],
   "source": [
    "with open('write.txt','w') as w:\n",
    "    w.write('My name is sakshi')\n",
    "    w.write('My name is sanu')"
   ]
  },
  {
   "cell_type": "code",
   "execution_count": 18,
   "id": "01a52b39-3b6c-4a5a-9119-4123cf0a63d6",
   "metadata": {},
   "outputs": [],
   "source": [
    "# over write\n",
    "with open('write.txt','w') as w:\n",
    "    w.write('My name is sakshi')\n",
    "    w.seek(0)\n",
    "    w.write('My name is sakshu')"
   ]
  },
  {
   "cell_type": "code",
   "execution_count": 19,
   "id": "1094737c-19d2-4a43-ad43-580d434b1517",
   "metadata": {},
   "outputs": [],
   "source": [
    "#make changes\n",
    "with open('write.txt','w') as w:\n",
    "    w.write('My name is sakshi')\n",
    "    w.seek(0)\n",
    "    w.write('AAAA')"
   ]
  },
  {
   "cell_type": "code",
   "execution_count": 20,
   "id": "e9d5f12d-a891-48fb-b1bb-0e3e6d6daccc",
   "metadata": {},
   "outputs": [],
   "source": [
    "# create a new file which will be the copy of maha.txt.\n",
    "\n",
    "with open('maha.txt','r') as rf:  # existing file\n",
    "    with open('maha1.txt','w') as w:  # new file\n",
    "        for line in rf:\n",
    "            w.write(line)\n"
   ]
  },
  {
   "cell_type": "code",
   "execution_count": 2,
   "id": "c0fe4c9c-8b65-4341-8362-c20b842ece0b",
   "metadata": {},
   "outputs": [],
   "source": [
    "# image\n",
    "\n",
    "with open('Beautiful-pink-flower_-_West_Virginia_-_ForestWander.jpg','rb') as f:\n",
    "    with open('wall_copy.jpg','wb') as w:\n",
    "        for line in f:\n",
    "            w.write(line)\n",
    "        "
   ]
  },
  {
   "cell_type": "code",
   "execution_count": null,
   "id": "9c5e74c6-b6bc-4d59-9aa0-8eb75b64540f",
   "metadata": {},
   "outputs": [],
   "source": []
  }
 ],
 "metadata": {
  "kernelspec": {
   "display_name": "Python 3 (ipykernel)",
   "language": "python",
   "name": "python3"
  },
  "language_info": {
   "codemirror_mode": {
    "name": "ipython",
    "version": 3
   },
   "file_extension": ".py",
   "mimetype": "text/x-python",
   "name": "python",
   "nbconvert_exporter": "python",
   "pygments_lexer": "ipython3",
   "version": "3.11.7"
  }
 },
 "nbformat": 4,
 "nbformat_minor": 5
}
