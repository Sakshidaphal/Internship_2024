{
 "cells": [
  {
   "cell_type": "code",
   "execution_count": 1,
   "id": "4ff58a6c-2c53-44eb-be40-bbf9fab44a52",
   "metadata": {},
   "outputs": [],
   "source": [
    "import pandas as pd"
   ]
  },
  {
   "cell_type": "code",
   "execution_count": 9,
   "id": "aac05a96-7e3a-4068-bf39-ea67865b8b96",
   "metadata": {},
   "outputs": [],
   "source": [
    "actual =    ['c','c','nc','c','nc','nc','c','nc','nc']\n",
    "predicted = ['c','nc','nc','c','c','nc','nc','c','nc']"
   ]
  },
  {
   "cell_type": "markdown",
   "id": "d3c96b14-6ca0-44d8-b095-7a468868fe01",
   "metadata": {},
   "source": [
    "### for cat"
   ]
  },
  {
   "cell_type": "code",
   "execution_count": 19,
   "id": "b0e82d50-9518-4cdd-9a1d-27d5547a229f",
   "metadata": {},
   "outputs": [],
   "source": [
    "tp = 2     # pred cat actual cat"
   ]
  },
  {
   "cell_type": "code",
   "execution_count": 15,
   "id": "e35171cf-2f32-4749-8baa-e70b569915c4",
   "metadata": {},
   "outputs": [],
   "source": [
    "fp = 2     # pred cat actual not cat"
   ]
  },
  {
   "cell_type": "code",
   "execution_count": 16,
   "id": "44b22486-8007-4ee0-958d-5af82ef07670",
   "metadata": {},
   "outputs": [],
   "source": [
    "fn = 2     # pred not cat actual cat"
   ]
  },
  {
   "cell_type": "code",
   "execution_count": 17,
   "id": "9d95f77c-51ce-4909-82ea-948056fed48e",
   "metadata": {},
   "outputs": [],
   "source": [
    "tn = 3     # pred not cat actual not cat"
   ]
  },
  {
   "cell_type": "code",
   "execution_count": 27,
   "id": "a44c2b49-fe78-4e92-a1f5-32513ba0ae3d",
   "metadata": {},
   "outputs": [
    {
     "data": {
      "text/plain": [
       "0.5"
      ]
     },
     "execution_count": 27,
     "metadata": {},
     "output_type": "execute_result"
    }
   ],
   "source": [
    "# precision\n",
    "\n",
    "precision =  2 / 4\n",
    "precision"
   ]
  },
  {
   "cell_type": "code",
   "execution_count": 28,
   "id": "362863b4-b4af-43c3-887c-9b4208b9fb5b",
   "metadata": {},
   "outputs": [
    {
     "data": {
      "text/plain": [
       "0.5"
      ]
     },
     "execution_count": 28,
     "metadata": {},
     "output_type": "execute_result"
    }
   ],
   "source": [
    "# recall\n",
    "\n",
    "recall = 2 / 4\n",
    "recall"
   ]
  },
  {
   "cell_type": "code",
   "execution_count": 31,
   "id": "874f91d4-92eb-4046-9a2c-e549eb8427a5",
   "metadata": {},
   "outputs": [
    {
     "data": {
      "text/plain": [
       "0.5"
      ]
     },
     "execution_count": 31,
     "metadata": {},
     "output_type": "execute_result"
    }
   ],
   "source": [
    "# f1 - score\n",
    "\n",
    "# harmonic mean beetween precision and recall\n",
    "(2 * precision * recall)  / (precision + recall)"
   ]
  },
  {
   "cell_type": "code",
   "execution_count": null,
   "id": "e2328e8b-52de-4a44-8a3f-d6ba0143fa29",
   "metadata": {},
   "outputs": [],
   "source": []
  }
 ],
 "metadata": {
  "kernelspec": {
   "display_name": "Python 3 (ipykernel)",
   "language": "python",
   "name": "python3"
  },
  "language_info": {
   "codemirror_mode": {
    "name": "ipython",
    "version": 3
   },
   "file_extension": ".py",
   "mimetype": "text/x-python",
   "name": "python",
   "nbconvert_exporter": "python",
   "pygments_lexer": "ipython3",
   "version": "3.11.7"
  }
 },
 "nbformat": 4,
 "nbformat_minor": 5
}
